{
  "nbformat": 4,
  "nbformat_minor": 0,
  "metadata": {
    "colab": {
      "name": "Autolib Analysis",
      "provenance": [],
      "authorship_tag": "ABX9TyMrfwWLNZMNMAxbPt1ukf3/",
      "include_colab_link": true
    },
    "kernelspec": {
      "name": "python3",
      "display_name": "Python 3"
    },
    "language_info": {
      "name": "python"
    }
  },
  "cells": [
    {
      "cell_type": "markdown",
      "metadata": {
        "id": "view-in-github",
        "colab_type": "text"
      },
      "source": [
        "<a href=\"https://colab.research.google.com/github/GeorgeKMaina/Autolib-Car-Analysis-and-Hypotheis-Testing/blob/main/Autolib_Analysis.ipynb\" target=\"_parent\"><img src=\"https://colab.research.google.com/assets/colab-badge.svg\" alt=\"Open In Colab\"/></a>"
      ]
    },
    {
      "cell_type": "markdown",
      "metadata": {
        "id": "l2dWWneW8q3H"
      },
      "source": [
        "# AUTOLIB CAR SHARING SERVICES ANALYSIS"
      ]
    },
    {
      "cell_type": "markdown",
      "metadata": {
        "id": "lND74_r_8dk8"
      },
      "source": [
        "### 1. Defining the research question"
      ]
    },
    {
      "cell_type": "markdown",
      "metadata": {
        "id": "LPcLYaR49iLo"
      },
      "source": [
        "We will work as Data Scientist for Autolib which a company that provides car sharing services in France. Autolib has anout 104 stations where people can pick and drop the hired cars.\n",
        "\n",
        "The main aim of this project is to establish which day of the week are most cars picked and returned.\n",
        "We will also try to establish if there is any statistical difference between the number of cars that are picked and returned."
      ]
    },
    {
      "cell_type": "markdown",
      "metadata": {
        "id": "pAKKLTPj9N-R"
      },
      "source": [
        "#### a) Specyfying the Data Analytic Questions\n",
        "\n",
        "1. Are most cars picked during the weekdays or during the weekends?\n",
        "2. Is the number of cars taken and those returned equal?"
      ]
    },
    {
      "cell_type": "markdown",
      "metadata": {
        "id": "vT3XHP9i-8SA"
      },
      "source": [
        "b) Stating the hypothesis "
      ]
    },
    {
      "cell_type": "markdown",
      "metadata": {
        "id": "MrelMNpK_DpJ"
      },
      "source": [
        "1. For the first question, the hypothesis will be:\n",
        "\n",
        "H0: The mean of cars taken during the weekends and weekdays are the same\n",
        "\n",
        "H1: The mean of cars taken during the weekend s and weekdays are different\n",
        "\n",
        "2. For the second question, the hypotheis will be:\n",
        "\n",
        "H0= the means of the two columns are equal\n",
        "\n",
        "H1: The means of the two columns are not equal"
      ]
    },
    {
      "cell_type": "markdown",
      "metadata": {
        "id": "YHhIO4YU_7KP"
      },
      "source": [
        "c) Stating the decision Rule\n",
        "\n",
        "If p-value is less than 0.05, reject the null hypothesis"
      ]
    },
    {
      "cell_type": "markdown",
      "metadata": {
        "id": "O-j4VwCiA0jR"
      },
      "source": [
        "### 2. Recording the Experimental Design"
      ]
    },
    {
      "cell_type": "markdown",
      "metadata": {
        "id": "SrYldNNdA6PC"
      },
      "source": [
        "a) Coming up with research question\n",
        "\n",
        "b) Cleaning the dataset by deleting outliers, remaing messy column names and dropping observations with anomalies\n",
        "\n",
        "c) Carrying out univariate and bivariate analysis and making the respective plots\n",
        "\n",
        "d) Implement the solution by performing hypothesis testing"
      ]
    },
    {
      "cell_type": "markdown",
      "metadata": {
        "id": "TGHyiwQlBrQ_"
      },
      "source": [
        "### 3. Metric of Success"
      ]
    },
    {
      "cell_type": "markdown",
      "metadata": {
        "id": "-TGIRLtNBvhJ"
      },
      "source": [
        "To draw conclusion from the hypothesis tests that we will perform"
      ]
    },
    {
      "cell_type": "markdown",
      "metadata": {
        "id": "Df2R6o-sCFQ0"
      },
      "source": [
        "### 4. Relevance of the Dataset"
      ]
    },
    {
      "cell_type": "markdown",
      "metadata": {
        "id": "THTzucdNCL4T"
      },
      "source": [
        "The dataset is of daily records of the number of cars picked or returned at the various stations owned by autolib. The data covers  a period of six months from the month of January to July of 2018.\n",
        "\n",
        "The dataset has the necessary features that will enable us to achieve our objectives"
      ]
    },
    {
      "cell_type": "markdown",
      "metadata": {
        "id": "fMg3rhJ-M_f9"
      },
      "source": [
        "# Importing the libraries we will use in the project"
      ]
    },
    {
      "cell_type": "code",
      "metadata": {
        "id": "zLe9G6FfM5oc"
      },
      "source": [
        "import pandas as pd\n",
        "import numpy as np\n",
        "import matplotlib.pyplot as plt\n",
        "import seaborn as sns\n",
        "%matplotlib inline\n",
        "from scipy import stats\n",
        "from scipy.stats import ttest_ind"
      ],
      "execution_count": 58,
      "outputs": []
    },
    {
      "cell_type": "markdown",
      "metadata": {
        "id": "02Zb5DufNKxq"
      },
      "source": [
        "Loading the dataset"
      ]
    },
    {
      "cell_type": "code",
      "metadata": {
        "colab": {
          "base_uri": "https://localhost:8080/",
          "height": 241
        },
        "id": "0d0A5a3dNKJc",
        "outputId": "38a252e7-2414-4aba-9405-5732ec9c674b"
      },
      "source": [
        "autolib=pd.read_csv('http://bit.ly/DSCoreAutolibDataset')\n",
        "autolib.head()"
      ],
      "execution_count": 2,
      "outputs": [
        {
          "output_type": "execute_result",
          "data": {
            "text/html": [
              "<div>\n",
              "<style scoped>\n",
              "    .dataframe tbody tr th:only-of-type {\n",
              "        vertical-align: middle;\n",
              "    }\n",
              "\n",
              "    .dataframe tbody tr th {\n",
              "        vertical-align: top;\n",
              "    }\n",
              "\n",
              "    .dataframe thead th {\n",
              "        text-align: right;\n",
              "    }\n",
              "</style>\n",
              "<table border=\"1\" class=\"dataframe\">\n",
              "  <thead>\n",
              "    <tr style=\"text-align: right;\">\n",
              "      <th></th>\n",
              "      <th>Postal code</th>\n",
              "      <th>date</th>\n",
              "      <th>n_daily_data_points</th>\n",
              "      <th>dayOfWeek</th>\n",
              "      <th>day_type</th>\n",
              "      <th>BlueCars_taken_sum</th>\n",
              "      <th>BlueCars_returned_sum</th>\n",
              "      <th>Utilib_taken_sum</th>\n",
              "      <th>Utilib_returned_sum</th>\n",
              "      <th>Utilib_14_taken_sum</th>\n",
              "      <th>Utilib_14_returned_sum</th>\n",
              "      <th>Slots_freed_sum</th>\n",
              "      <th>Slots_taken_sum</th>\n",
              "    </tr>\n",
              "  </thead>\n",
              "  <tbody>\n",
              "    <tr>\n",
              "      <th>0</th>\n",
              "      <td>75001</td>\n",
              "      <td>1/1/2018</td>\n",
              "      <td>1440</td>\n",
              "      <td>0</td>\n",
              "      <td>weekday</td>\n",
              "      <td>110</td>\n",
              "      <td>103</td>\n",
              "      <td>3</td>\n",
              "      <td>2</td>\n",
              "      <td>10</td>\n",
              "      <td>9</td>\n",
              "      <td>22</td>\n",
              "      <td>20</td>\n",
              "    </tr>\n",
              "    <tr>\n",
              "      <th>1</th>\n",
              "      <td>75001</td>\n",
              "      <td>1/2/2018</td>\n",
              "      <td>1438</td>\n",
              "      <td>1</td>\n",
              "      <td>weekday</td>\n",
              "      <td>98</td>\n",
              "      <td>94</td>\n",
              "      <td>1</td>\n",
              "      <td>1</td>\n",
              "      <td>8</td>\n",
              "      <td>8</td>\n",
              "      <td>23</td>\n",
              "      <td>22</td>\n",
              "    </tr>\n",
              "    <tr>\n",
              "      <th>2</th>\n",
              "      <td>75001</td>\n",
              "      <td>1/3/2018</td>\n",
              "      <td>1439</td>\n",
              "      <td>2</td>\n",
              "      <td>weekday</td>\n",
              "      <td>138</td>\n",
              "      <td>139</td>\n",
              "      <td>0</td>\n",
              "      <td>0</td>\n",
              "      <td>2</td>\n",
              "      <td>2</td>\n",
              "      <td>27</td>\n",
              "      <td>27</td>\n",
              "    </tr>\n",
              "    <tr>\n",
              "      <th>3</th>\n",
              "      <td>75001</td>\n",
              "      <td>1/4/2018</td>\n",
              "      <td>1320</td>\n",
              "      <td>3</td>\n",
              "      <td>weekday</td>\n",
              "      <td>104</td>\n",
              "      <td>104</td>\n",
              "      <td>2</td>\n",
              "      <td>2</td>\n",
              "      <td>9</td>\n",
              "      <td>8</td>\n",
              "      <td>25</td>\n",
              "      <td>21</td>\n",
              "    </tr>\n",
              "    <tr>\n",
              "      <th>4</th>\n",
              "      <td>75001</td>\n",
              "      <td>1/5/2018</td>\n",
              "      <td>1440</td>\n",
              "      <td>4</td>\n",
              "      <td>weekday</td>\n",
              "      <td>114</td>\n",
              "      <td>117</td>\n",
              "      <td>3</td>\n",
              "      <td>3</td>\n",
              "      <td>6</td>\n",
              "      <td>6</td>\n",
              "      <td>18</td>\n",
              "      <td>20</td>\n",
              "    </tr>\n",
              "  </tbody>\n",
              "</table>\n",
              "</div>"
            ],
            "text/plain": [
              "   Postal code      date  ...  Slots_freed_sum  Slots_taken_sum\n",
              "0        75001  1/1/2018  ...               22               20\n",
              "1        75001  1/2/2018  ...               23               22\n",
              "2        75001  1/3/2018  ...               27               27\n",
              "3        75001  1/4/2018  ...               25               21\n",
              "4        75001  1/5/2018  ...               18               20\n",
              "\n",
              "[5 rows x 13 columns]"
            ]
          },
          "metadata": {
            "tags": []
          },
          "execution_count": 2
        }
      ]
    },
    {
      "cell_type": "markdown",
      "metadata": {
        "id": "5sX0pZ9aD47x"
      },
      "source": [
        "preview of the dataset"
      ]
    },
    {
      "cell_type": "code",
      "metadata": {
        "colab": {
          "base_uri": "https://localhost:8080/"
        },
        "id": "dTr07aynDop0",
        "outputId": "0b4df613-5d61-4f46-bf66-489ccece4ee5"
      },
      "source": [
        "print('shape of the dataset',autolib.shape)\n",
        "print('the dataset has ' + str(autolib.shape[0]) + ' rows and ' + str(autolib.shape[1]) +' columns' )"
      ],
      "execution_count": 3,
      "outputs": [
        {
          "output_type": "stream",
          "text": [
            "shape of the dataset (16085, 13)\n",
            "the dataset has 16085 rows and 13 columns\n"
          ],
          "name": "stdout"
        }
      ]
    },
    {
      "cell_type": "code",
      "metadata": {
        "colab": {
          "base_uri": "https://localhost:8080/",
          "height": 241
        },
        "id": "qfDxmfOSDu06",
        "outputId": "9a116d26-a4ba-49ce-803d-ca42c4ce8d48"
      },
      "source": [
        "# the first 5 rows\n",
        "autolib.head()"
      ],
      "execution_count": 4,
      "outputs": [
        {
          "output_type": "execute_result",
          "data": {
            "text/html": [
              "<div>\n",
              "<style scoped>\n",
              "    .dataframe tbody tr th:only-of-type {\n",
              "        vertical-align: middle;\n",
              "    }\n",
              "\n",
              "    .dataframe tbody tr th {\n",
              "        vertical-align: top;\n",
              "    }\n",
              "\n",
              "    .dataframe thead th {\n",
              "        text-align: right;\n",
              "    }\n",
              "</style>\n",
              "<table border=\"1\" class=\"dataframe\">\n",
              "  <thead>\n",
              "    <tr style=\"text-align: right;\">\n",
              "      <th></th>\n",
              "      <th>Postal code</th>\n",
              "      <th>date</th>\n",
              "      <th>n_daily_data_points</th>\n",
              "      <th>dayOfWeek</th>\n",
              "      <th>day_type</th>\n",
              "      <th>BlueCars_taken_sum</th>\n",
              "      <th>BlueCars_returned_sum</th>\n",
              "      <th>Utilib_taken_sum</th>\n",
              "      <th>Utilib_returned_sum</th>\n",
              "      <th>Utilib_14_taken_sum</th>\n",
              "      <th>Utilib_14_returned_sum</th>\n",
              "      <th>Slots_freed_sum</th>\n",
              "      <th>Slots_taken_sum</th>\n",
              "    </tr>\n",
              "  </thead>\n",
              "  <tbody>\n",
              "    <tr>\n",
              "      <th>0</th>\n",
              "      <td>75001</td>\n",
              "      <td>1/1/2018</td>\n",
              "      <td>1440</td>\n",
              "      <td>0</td>\n",
              "      <td>weekday</td>\n",
              "      <td>110</td>\n",
              "      <td>103</td>\n",
              "      <td>3</td>\n",
              "      <td>2</td>\n",
              "      <td>10</td>\n",
              "      <td>9</td>\n",
              "      <td>22</td>\n",
              "      <td>20</td>\n",
              "    </tr>\n",
              "    <tr>\n",
              "      <th>1</th>\n",
              "      <td>75001</td>\n",
              "      <td>1/2/2018</td>\n",
              "      <td>1438</td>\n",
              "      <td>1</td>\n",
              "      <td>weekday</td>\n",
              "      <td>98</td>\n",
              "      <td>94</td>\n",
              "      <td>1</td>\n",
              "      <td>1</td>\n",
              "      <td>8</td>\n",
              "      <td>8</td>\n",
              "      <td>23</td>\n",
              "      <td>22</td>\n",
              "    </tr>\n",
              "    <tr>\n",
              "      <th>2</th>\n",
              "      <td>75001</td>\n",
              "      <td>1/3/2018</td>\n",
              "      <td>1439</td>\n",
              "      <td>2</td>\n",
              "      <td>weekday</td>\n",
              "      <td>138</td>\n",
              "      <td>139</td>\n",
              "      <td>0</td>\n",
              "      <td>0</td>\n",
              "      <td>2</td>\n",
              "      <td>2</td>\n",
              "      <td>27</td>\n",
              "      <td>27</td>\n",
              "    </tr>\n",
              "    <tr>\n",
              "      <th>3</th>\n",
              "      <td>75001</td>\n",
              "      <td>1/4/2018</td>\n",
              "      <td>1320</td>\n",
              "      <td>3</td>\n",
              "      <td>weekday</td>\n",
              "      <td>104</td>\n",
              "      <td>104</td>\n",
              "      <td>2</td>\n",
              "      <td>2</td>\n",
              "      <td>9</td>\n",
              "      <td>8</td>\n",
              "      <td>25</td>\n",
              "      <td>21</td>\n",
              "    </tr>\n",
              "    <tr>\n",
              "      <th>4</th>\n",
              "      <td>75001</td>\n",
              "      <td>1/5/2018</td>\n",
              "      <td>1440</td>\n",
              "      <td>4</td>\n",
              "      <td>weekday</td>\n",
              "      <td>114</td>\n",
              "      <td>117</td>\n",
              "      <td>3</td>\n",
              "      <td>3</td>\n",
              "      <td>6</td>\n",
              "      <td>6</td>\n",
              "      <td>18</td>\n",
              "      <td>20</td>\n",
              "    </tr>\n",
              "  </tbody>\n",
              "</table>\n",
              "</div>"
            ],
            "text/plain": [
              "   Postal code      date  ...  Slots_freed_sum  Slots_taken_sum\n",
              "0        75001  1/1/2018  ...               22               20\n",
              "1        75001  1/2/2018  ...               23               22\n",
              "2        75001  1/3/2018  ...               27               27\n",
              "3        75001  1/4/2018  ...               25               21\n",
              "4        75001  1/5/2018  ...               18               20\n",
              "\n",
              "[5 rows x 13 columns]"
            ]
          },
          "metadata": {
            "tags": []
          },
          "execution_count": 4
        }
      ]
    },
    {
      "cell_type": "code",
      "metadata": {
        "colab": {
          "base_uri": "https://localhost:8080/",
          "height": 241
        },
        "id": "cNlsEWeTDzFd",
        "outputId": "52e93f73-9a01-4d1c-e894-96bda1b2198b"
      },
      "source": [
        "# last 5 rows\n",
        "autolib.tail()"
      ],
      "execution_count": 5,
      "outputs": [
        {
          "output_type": "execute_result",
          "data": {
            "text/html": [
              "<div>\n",
              "<style scoped>\n",
              "    .dataframe tbody tr th:only-of-type {\n",
              "        vertical-align: middle;\n",
              "    }\n",
              "\n",
              "    .dataframe tbody tr th {\n",
              "        vertical-align: top;\n",
              "    }\n",
              "\n",
              "    .dataframe thead th {\n",
              "        text-align: right;\n",
              "    }\n",
              "</style>\n",
              "<table border=\"1\" class=\"dataframe\">\n",
              "  <thead>\n",
              "    <tr style=\"text-align: right;\">\n",
              "      <th></th>\n",
              "      <th>Postal code</th>\n",
              "      <th>date</th>\n",
              "      <th>n_daily_data_points</th>\n",
              "      <th>dayOfWeek</th>\n",
              "      <th>day_type</th>\n",
              "      <th>BlueCars_taken_sum</th>\n",
              "      <th>BlueCars_returned_sum</th>\n",
              "      <th>Utilib_taken_sum</th>\n",
              "      <th>Utilib_returned_sum</th>\n",
              "      <th>Utilib_14_taken_sum</th>\n",
              "      <th>Utilib_14_returned_sum</th>\n",
              "      <th>Slots_freed_sum</th>\n",
              "      <th>Slots_taken_sum</th>\n",
              "    </tr>\n",
              "  </thead>\n",
              "  <tbody>\n",
              "    <tr>\n",
              "      <th>16080</th>\n",
              "      <td>95880</td>\n",
              "      <td>6/15/2018</td>\n",
              "      <td>1440</td>\n",
              "      <td>4</td>\n",
              "      <td>weekday</td>\n",
              "      <td>15</td>\n",
              "      <td>10</td>\n",
              "      <td>0</td>\n",
              "      <td>0</td>\n",
              "      <td>2</td>\n",
              "      <td>3</td>\n",
              "      <td>0</td>\n",
              "      <td>0</td>\n",
              "    </tr>\n",
              "    <tr>\n",
              "      <th>16081</th>\n",
              "      <td>95880</td>\n",
              "      <td>6/16/2018</td>\n",
              "      <td>1440</td>\n",
              "      <td>5</td>\n",
              "      <td>weekend</td>\n",
              "      <td>19</td>\n",
              "      <td>19</td>\n",
              "      <td>0</td>\n",
              "      <td>0</td>\n",
              "      <td>2</td>\n",
              "      <td>1</td>\n",
              "      <td>0</td>\n",
              "      <td>0</td>\n",
              "    </tr>\n",
              "    <tr>\n",
              "      <th>16082</th>\n",
              "      <td>95880</td>\n",
              "      <td>6/17/2018</td>\n",
              "      <td>1440</td>\n",
              "      <td>6</td>\n",
              "      <td>weekend</td>\n",
              "      <td>33</td>\n",
              "      <td>35</td>\n",
              "      <td>1</td>\n",
              "      <td>1</td>\n",
              "      <td>0</td>\n",
              "      <td>0</td>\n",
              "      <td>0</td>\n",
              "      <td>0</td>\n",
              "    </tr>\n",
              "    <tr>\n",
              "      <th>16083</th>\n",
              "      <td>95880</td>\n",
              "      <td>6/18/2018</td>\n",
              "      <td>1440</td>\n",
              "      <td>0</td>\n",
              "      <td>weekday</td>\n",
              "      <td>11</td>\n",
              "      <td>14</td>\n",
              "      <td>3</td>\n",
              "      <td>5</td>\n",
              "      <td>2</td>\n",
              "      <td>2</td>\n",
              "      <td>0</td>\n",
              "      <td>0</td>\n",
              "    </tr>\n",
              "    <tr>\n",
              "      <th>16084</th>\n",
              "      <td>95880</td>\n",
              "      <td>6/19/2018</td>\n",
              "      <td>1370</td>\n",
              "      <td>1</td>\n",
              "      <td>weekday</td>\n",
              "      <td>2</td>\n",
              "      <td>2</td>\n",
              "      <td>2</td>\n",
              "      <td>1</td>\n",
              "      <td>0</td>\n",
              "      <td>0</td>\n",
              "      <td>0</td>\n",
              "      <td>0</td>\n",
              "    </tr>\n",
              "  </tbody>\n",
              "</table>\n",
              "</div>"
            ],
            "text/plain": [
              "       Postal code       date  ...  Slots_freed_sum  Slots_taken_sum\n",
              "16080        95880  6/15/2018  ...                0                0\n",
              "16081        95880  6/16/2018  ...                0                0\n",
              "16082        95880  6/17/2018  ...                0                0\n",
              "16083        95880  6/18/2018  ...                0                0\n",
              "16084        95880  6/19/2018  ...                0                0\n",
              "\n",
              "[5 rows x 13 columns]"
            ]
          },
          "metadata": {
            "tags": []
          },
          "execution_count": 5
        }
      ]
    },
    {
      "cell_type": "markdown",
      "metadata": {
        "id": "AIXqEw94ECH_"
      },
      "source": [
        "We will filter the dataset to remain with our rows and columns of interest"
      ]
    },
    {
      "cell_type": "markdown",
      "metadata": {
        "id": "-466GXEDES6v"
      },
      "source": [
        "we are not interested in all the columns in this dataset\n",
        "\n",
        "Our columns of interest are the Postal code,\tdate,day of the Week,\ttype of day,sum\tof blue cars taken and sum of blue cars returned.\n",
        "\n",
        "Also, there are 104 stations some of which do not have many visits. Because of this, I settled to analyze the two stations with highest frequency of visits."
      ]
    },
    {
      "cell_type": "code",
      "metadata": {
        "colab": {
          "base_uri": "https://localhost:8080/"
        },
        "id": "yl0wujvoEA-n",
        "outputId": "38a505fe-67b1-4eff-c137-a2e46349de20"
      },
      "source": [
        "# since we are not interested in all the 104 stations, we will try and look at the the two sations with the highest average\n",
        "print('***** average of cars taken *****')\n",
        "print(autolib.groupby('Postal code')['BlueCars_taken_sum'].mean().nlargest())\n",
        "\n",
        "print('***** sum of cars taken *****')\n",
        "autolib.groupby('Postal code')['BlueCars_taken_sum'].sum().nlargest()"
      ],
      "execution_count": 6,
      "outputs": [
        {
          "output_type": "stream",
          "text": [
            "***** average of cars taken *****\n",
            "Postal code\n",
            "75015    896.955128\n",
            "75016    790.301282\n",
            "75017    734.493590\n",
            "75013    541.596154\n",
            "75019    525.467949\n",
            "Name: BlueCars_taken_sum, dtype: float64\n",
            "***** sum of cars taken *****\n"
          ],
          "name": "stdout"
        },
        {
          "output_type": "execute_result",
          "data": {
            "text/plain": [
              "Postal code\n",
              "75015    139925\n",
              "75016    123287\n",
              "75017    114581\n",
              "75013     84489\n",
              "75019     81973\n",
              "Name: BlueCars_taken_sum, dtype: int64"
            ]
          },
          "metadata": {
            "tags": []
          },
          "execution_count": 6
        }
      ]
    },
    {
      "cell_type": "code",
      "metadata": {
        "colab": {
          "base_uri": "https://localhost:8080/",
          "height": 204
        },
        "id": "Ia2PuneNDj-x",
        "outputId": "9824cbd3-5a05-4232-e4a6-476f8a66dc70"
      },
      "source": [
        "#we will take the first two stations which are 75015 and 75016 respectively\n",
        "df= autolib[\"Postal code\"].isin([\"75015\",\"75016\"])\n",
        "df=autolib[df]\n",
        "df1=df[['Postal code','date','BlueCars_taken_sum','BlueCars_returned_sum','dayOfWeek','day_type']]\n",
        "df1.head()"
      ],
      "execution_count": 7,
      "outputs": [
        {
          "output_type": "execute_result",
          "data": {
            "text/html": [
              "<div>\n",
              "<style scoped>\n",
              "    .dataframe tbody tr th:only-of-type {\n",
              "        vertical-align: middle;\n",
              "    }\n",
              "\n",
              "    .dataframe tbody tr th {\n",
              "        vertical-align: top;\n",
              "    }\n",
              "\n",
              "    .dataframe thead th {\n",
              "        text-align: right;\n",
              "    }\n",
              "</style>\n",
              "<table border=\"1\" class=\"dataframe\">\n",
              "  <thead>\n",
              "    <tr style=\"text-align: right;\">\n",
              "      <th></th>\n",
              "      <th>Postal code</th>\n",
              "      <th>date</th>\n",
              "      <th>BlueCars_taken_sum</th>\n",
              "      <th>BlueCars_returned_sum</th>\n",
              "      <th>dayOfWeek</th>\n",
              "      <th>day_type</th>\n",
              "    </tr>\n",
              "  </thead>\n",
              "  <tbody>\n",
              "    <tr>\n",
              "      <th>2184</th>\n",
              "      <td>75015</td>\n",
              "      <td>1/1/2018</td>\n",
              "      <td>781</td>\n",
              "      <td>843</td>\n",
              "      <td>0</td>\n",
              "      <td>weekday</td>\n",
              "    </tr>\n",
              "    <tr>\n",
              "      <th>2185</th>\n",
              "      <td>75015</td>\n",
              "      <td>1/2/2018</td>\n",
              "      <td>710</td>\n",
              "      <td>720</td>\n",
              "      <td>1</td>\n",
              "      <td>weekday</td>\n",
              "    </tr>\n",
              "    <tr>\n",
              "      <th>2186</th>\n",
              "      <td>75015</td>\n",
              "      <td>1/3/2018</td>\n",
              "      <td>739</td>\n",
              "      <td>752</td>\n",
              "      <td>2</td>\n",
              "      <td>weekday</td>\n",
              "    </tr>\n",
              "    <tr>\n",
              "      <th>2187</th>\n",
              "      <td>75015</td>\n",
              "      <td>1/4/2018</td>\n",
              "      <td>669</td>\n",
              "      <td>644</td>\n",
              "      <td>3</td>\n",
              "      <td>weekday</td>\n",
              "    </tr>\n",
              "    <tr>\n",
              "      <th>2188</th>\n",
              "      <td>75015</td>\n",
              "      <td>1/5/2018</td>\n",
              "      <td>852</td>\n",
              "      <td>846</td>\n",
              "      <td>4</td>\n",
              "      <td>weekday</td>\n",
              "    </tr>\n",
              "  </tbody>\n",
              "</table>\n",
              "</div>"
            ],
            "text/plain": [
              "      Postal code      date  ...  dayOfWeek  day_type\n",
              "2184        75015  1/1/2018  ...          0   weekday\n",
              "2185        75015  1/2/2018  ...          1   weekday\n",
              "2186        75015  1/3/2018  ...          2   weekday\n",
              "2187        75015  1/4/2018  ...          3   weekday\n",
              "2188        75015  1/5/2018  ...          4   weekday\n",
              "\n",
              "[5 rows x 6 columns]"
            ]
          },
          "metadata": {
            "tags": []
          },
          "execution_count": 7
        }
      ]
    },
    {
      "cell_type": "code",
      "metadata": {
        "colab": {
          "base_uri": "https://localhost:8080/"
        },
        "id": "sjX_WcIAIvEM",
        "outputId": "c45c07c1-fbf4-4efc-8277-d66cd0f7ca21"
      },
      "source": [
        "#to have a brief summary of the data columns\n",
        "df1.info()"
      ],
      "execution_count": 8,
      "outputs": [
        {
          "output_type": "stream",
          "text": [
            "<class 'pandas.core.frame.DataFrame'>\n",
            "Int64Index: 312 entries, 2184 to 2495\n",
            "Data columns (total 6 columns):\n",
            " #   Column                 Non-Null Count  Dtype \n",
            "---  ------                 --------------  ----- \n",
            " 0   Postal code            312 non-null    int64 \n",
            " 1   date                   312 non-null    object\n",
            " 2   BlueCars_taken_sum     312 non-null    int64 \n",
            " 3   BlueCars_returned_sum  312 non-null    int64 \n",
            " 4   dayOfWeek              312 non-null    int64 \n",
            " 5   day_type               312 non-null    object\n",
            "dtypes: int64(4), object(2)\n",
            "memory usage: 17.1+ KB\n"
          ],
          "name": "stdout"
        }
      ]
    },
    {
      "cell_type": "markdown",
      "metadata": {
        "id": "BlK-cxIoC6zf"
      },
      "source": [
        "# Data Cleaning"
      ]
    },
    {
      "cell_type": "markdown",
      "metadata": {
        "id": "jhGF8LCZC-o8"
      },
      "source": [
        "1. Consistency"
      ]
    },
    {
      "cell_type": "code",
      "metadata": {
        "colab": {
          "base_uri": "https://localhost:8080/"
        },
        "id": "UDRTCKR-FdF2",
        "outputId": "eb59df57-3e0d-475d-fdf0-c36d72bcf051"
      },
      "source": [
        "print('number of rows with duplicate records: ',df.duplicated().sum())"
      ],
      "execution_count": 9,
      "outputs": [
        {
          "output_type": "stream",
          "text": [
            "number of rows with duplicate records:  0\n"
          ],
          "name": "stdout"
        }
      ]
    },
    {
      "cell_type": "markdown",
      "metadata": {
        "id": "vCLcyB2ZGRDQ"
      },
      "source": [
        "There is no instance of duplicated records"
      ]
    },
    {
      "cell_type": "markdown",
      "metadata": {
        "id": "vKXY664EDCcq"
      },
      "source": [
        "2. Completeness"
      ]
    },
    {
      "cell_type": "code",
      "metadata": {
        "colab": {
          "base_uri": "https://localhost:8080/"
        },
        "id": "_GLXQqVCFsRa",
        "outputId": "ae6f0c8b-ebd0-42ba-f266-eb92196406d5"
      },
      "source": [
        "df1.isna().sum()"
      ],
      "execution_count": 10,
      "outputs": [
        {
          "output_type": "execute_result",
          "data": {
            "text/plain": [
              "Postal code              0\n",
              "date                     0\n",
              "BlueCars_taken_sum       0\n",
              "BlueCars_returned_sum    0\n",
              "dayOfWeek                0\n",
              "day_type                 0\n",
              "dtype: int64"
            ]
          },
          "metadata": {
            "tags": []
          },
          "execution_count": 10
        }
      ]
    },
    {
      "cell_type": "markdown",
      "metadata": {
        "id": "usPeKkPgGM1j"
      },
      "source": [
        "There are no null values in the columns"
      ]
    },
    {
      "cell_type": "markdown",
      "metadata": {
        "id": "p6Rgj6IuDGJE"
      },
      "source": [
        "3. Validity"
      ]
    },
    {
      "cell_type": "markdown",
      "metadata": {
        "id": "2y_izgjTGb2C"
      },
      "source": [
        "- we will look at our columns of interest to ensure that they are consistent and have no outlier values\n",
        "\n",
        "We will first check to ensure that no column has a sum of zero."
      ]
    },
    {
      "cell_type": "code",
      "metadata": {
        "colab": {
          "base_uri": "https://localhost:8080/",
          "height": 66
        },
        "id": "exB-k3veG1fr",
        "outputId": "dfb81acd-6ed5-4672-e00b-ca7a15954fc7"
      },
      "source": [
        "# we will look for anomalies in this column. We will try to find if there are any stations that had zero cars picked from or returned.\n",
        "print('number of rows in the dataset where there were either zero cars picked or droped : ', df1.loc[(df1['BlueCars_taken_sum']==0) | (df1['BlueCars_returned_sum']==0)].shape)\n",
        "df1.loc[(df1['BlueCars_returned_sum']==0) | (df1['BlueCars_taken_sum']==0)]\n",
        "\n",
        "#we establish that there are five rows where there were no cars picked or returned"
      ],
      "execution_count": 11,
      "outputs": [
        {
          "output_type": "stream",
          "text": [
            "number of rows in the dataset where there were either zero cars picked or droped :  (0, 6)\n"
          ],
          "name": "stdout"
        },
        {
          "output_type": "execute_result",
          "data": {
            "text/html": [
              "<div>\n",
              "<style scoped>\n",
              "    .dataframe tbody tr th:only-of-type {\n",
              "        vertical-align: middle;\n",
              "    }\n",
              "\n",
              "    .dataframe tbody tr th {\n",
              "        vertical-align: top;\n",
              "    }\n",
              "\n",
              "    .dataframe thead th {\n",
              "        text-align: right;\n",
              "    }\n",
              "</style>\n",
              "<table border=\"1\" class=\"dataframe\">\n",
              "  <thead>\n",
              "    <tr style=\"text-align: right;\">\n",
              "      <th></th>\n",
              "      <th>Postal code</th>\n",
              "      <th>date</th>\n",
              "      <th>BlueCars_taken_sum</th>\n",
              "      <th>BlueCars_returned_sum</th>\n",
              "      <th>dayOfWeek</th>\n",
              "      <th>day_type</th>\n",
              "    </tr>\n",
              "  </thead>\n",
              "  <tbody>\n",
              "  </tbody>\n",
              "</table>\n",
              "</div>"
            ],
            "text/plain": [
              "Empty DataFrame\n",
              "Columns: [Postal code, date, BlueCars_taken_sum, BlueCars_returned_sum, dayOfWeek, day_type]\n",
              "Index: []"
            ]
          },
          "metadata": {
            "tags": []
          },
          "execution_count": 11
        }
      ]
    },
    {
      "cell_type": "markdown",
      "metadata": {
        "id": "jV5YB6lAG_ry"
      },
      "source": [
        "We will check if there are outliers in the two columns"
      ]
    },
    {
      "cell_type": "code",
      "metadata": {
        "colab": {
          "base_uri": "https://localhost:8080/",
          "height": 500
        },
        "id": "-oF5ChKAHE9o",
        "outputId": "15449a61-74d8-4847-f6b7-2d562cc90c25"
      },
      "source": [
        "#we will first look if the columns have outlier values\n",
        "#outlier detection\n",
        "# the columns that we will use are BlueCars_taken_sum and BlueCars_returned_sum\n",
        "numerical=df1[['BlueCars_taken_sum','BlueCars_returned_sum']]\n",
        "numerical.boxplot(figsize=(8,8))\n",
        "plt.title('box plot to visualize outlier values')\n",
        "plt.show()"
      ],
      "execution_count": 12,
      "outputs": [
        {
          "output_type": "display_data",
          "data": {
            "image/png": "[encoded data removed]",
            "text/plain": [
              "<Figure size 576x576 with 1 Axes>"
            ]
          },
          "metadata": {
            "tags": [],
            "needs_background": "light"
          }
        }
      ]
    },
    {
      "cell_type": "code",
      "metadata": {
        "colab": {
          "base_uri": "https://localhost:8080/",
          "height": 173
        },
        "id": "TEMNB-S2H30z",
        "outputId": "f190e0dd-627b-401b-cbdf-86e0e8d83059"
      },
      "source": [
        "df1.loc[(df1['BlueCars_taken_sum']<500) | (df1['BlueCars_returned_sum']<500)]"
      ],
      "execution_count": 13,
      "outputs": [
        {
          "output_type": "execute_result",
          "data": {
            "text/html": [
              "<div>\n",
              "<style scoped>\n",
              "    .dataframe tbody tr th:only-of-type {\n",
              "        vertical-align: middle;\n",
              "    }\n",
              "\n",
              "    .dataframe tbody tr th {\n",
              "        vertical-align: top;\n",
              "    }\n",
              "\n",
              "    .dataframe thead th {\n",
              "        text-align: right;\n",
              "    }\n",
              "</style>\n",
              "<table border=\"1\" class=\"dataframe\">\n",
              "  <thead>\n",
              "    <tr style=\"text-align: right;\">\n",
              "      <th></th>\n",
              "      <th>Postal code</th>\n",
              "      <th>date</th>\n",
              "      <th>BlueCars_taken_sum</th>\n",
              "      <th>BlueCars_returned_sum</th>\n",
              "      <th>dayOfWeek</th>\n",
              "      <th>day_type</th>\n",
              "    </tr>\n",
              "  </thead>\n",
              "  <tbody>\n",
              "    <tr>\n",
              "      <th>2238</th>\n",
              "      <td>75015</td>\n",
              "      <td>2/24/2018</td>\n",
              "      <td>58</td>\n",
              "      <td>93</td>\n",
              "      <td>5</td>\n",
              "      <td>weekend</td>\n",
              "    </tr>\n",
              "    <tr>\n",
              "      <th>2339</th>\n",
              "      <td>75015</td>\n",
              "      <td>6/19/2018</td>\n",
              "      <td>49</td>\n",
              "      <td>52</td>\n",
              "      <td>1</td>\n",
              "      <td>weekday</td>\n",
              "    </tr>\n",
              "    <tr>\n",
              "      <th>2394</th>\n",
              "      <td>75016</td>\n",
              "      <td>2/24/2018</td>\n",
              "      <td>49</td>\n",
              "      <td>60</td>\n",
              "      <td>5</td>\n",
              "      <td>weekend</td>\n",
              "    </tr>\n",
              "    <tr>\n",
              "      <th>2495</th>\n",
              "      <td>75016</td>\n",
              "      <td>6/19/2018</td>\n",
              "      <td>36</td>\n",
              "      <td>40</td>\n",
              "      <td>1</td>\n",
              "      <td>weekday</td>\n",
              "    </tr>\n",
              "  </tbody>\n",
              "</table>\n",
              "</div>"
            ],
            "text/plain": [
              "      Postal code       date  ...  dayOfWeek  day_type\n",
              "2238        75015  2/24/2018  ...          5   weekend\n",
              "2339        75015  6/19/2018  ...          1   weekday\n",
              "2394        75016  2/24/2018  ...          5   weekend\n",
              "2495        75016  6/19/2018  ...          1   weekday\n",
              "\n",
              "[4 rows x 6 columns]"
            ]
          },
          "metadata": {
            "tags": []
          },
          "execution_count": 13
        }
      ]
    },
    {
      "cell_type": "code",
      "metadata": {
        "colab": {
          "base_uri": "https://localhost:8080/",
          "height": 824
        },
        "id": "OObvKGaLH_XG",
        "outputId": "679a5c8f-83aa-4aa6-e4c3-b170793bbd77"
      },
      "source": [
        "df1.loc[(df1['BlueCars_taken_sum']>1100) | (df1['BlueCars_returned_sum']>1100)]"
      ],
      "execution_count": 14,
      "outputs": [
        {
          "output_type": "execute_result",
          "data": {
            "text/html": [
              "<div>\n",
              "<style scoped>\n",
              "    .dataframe tbody tr th:only-of-type {\n",
              "        vertical-align: middle;\n",
              "    }\n",
              "\n",
              "    .dataframe tbody tr th {\n",
              "        vertical-align: top;\n",
              "    }\n",
              "\n",
              "    .dataframe thead th {\n",
              "        text-align: right;\n",
              "    }\n",
              "</style>\n",
              "<table border=\"1\" class=\"dataframe\">\n",
              "  <thead>\n",
              "    <tr style=\"text-align: right;\">\n",
              "      <th></th>\n",
              "      <th>Postal code</th>\n",
              "      <th>date</th>\n",
              "      <th>BlueCars_taken_sum</th>\n",
              "      <th>BlueCars_returned_sum</th>\n",
              "      <th>dayOfWeek</th>\n",
              "      <th>day_type</th>\n",
              "    </tr>\n",
              "  </thead>\n",
              "  <tbody>\n",
              "    <tr>\n",
              "      <th>2196</th>\n",
              "      <td>75015</td>\n",
              "      <td>1/13/2018</td>\n",
              "      <td>1255</td>\n",
              "      <td>1211</td>\n",
              "      <td>5</td>\n",
              "      <td>weekend</td>\n",
              "    </tr>\n",
              "    <tr>\n",
              "      <th>2197</th>\n",
              "      <td>75015</td>\n",
              "      <td>1/14/2018</td>\n",
              "      <td>1097</td>\n",
              "      <td>1135</td>\n",
              "      <td>6</td>\n",
              "      <td>weekend</td>\n",
              "    </tr>\n",
              "    <tr>\n",
              "      <th>2203</th>\n",
              "      <td>75015</td>\n",
              "      <td>1/20/2018</td>\n",
              "      <td>1352</td>\n",
              "      <td>1300</td>\n",
              "      <td>5</td>\n",
              "      <td>weekend</td>\n",
              "    </tr>\n",
              "    <tr>\n",
              "      <th>2204</th>\n",
              "      <td>75015</td>\n",
              "      <td>1/21/2018</td>\n",
              "      <td>1132</td>\n",
              "      <td>1149</td>\n",
              "      <td>6</td>\n",
              "      <td>weekend</td>\n",
              "    </tr>\n",
              "    <tr>\n",
              "      <th>2210</th>\n",
              "      <td>75015</td>\n",
              "      <td>1/27/2018</td>\n",
              "      <td>1248</td>\n",
              "      <td>1214</td>\n",
              "      <td>5</td>\n",
              "      <td>weekend</td>\n",
              "    </tr>\n",
              "    <tr>\n",
              "      <th>2217</th>\n",
              "      <td>75015</td>\n",
              "      <td>2/3/2018</td>\n",
              "      <td>1327</td>\n",
              "      <td>1287</td>\n",
              "      <td>5</td>\n",
              "      <td>weekend</td>\n",
              "    </tr>\n",
              "    <tr>\n",
              "      <th>2218</th>\n",
              "      <td>75015</td>\n",
              "      <td>2/4/2018</td>\n",
              "      <td>1043</td>\n",
              "      <td>1118</td>\n",
              "      <td>6</td>\n",
              "      <td>weekend</td>\n",
              "    </tr>\n",
              "    <tr>\n",
              "      <th>2224</th>\n",
              "      <td>75015</td>\n",
              "      <td>2/10/2018</td>\n",
              "      <td>1118</td>\n",
              "      <td>1136</td>\n",
              "      <td>5</td>\n",
              "      <td>weekend</td>\n",
              "    </tr>\n",
              "    <tr>\n",
              "      <th>2231</th>\n",
              "      <td>75015</td>\n",
              "      <td>2/17/2018</td>\n",
              "      <td>1144</td>\n",
              "      <td>1117</td>\n",
              "      <td>5</td>\n",
              "      <td>weekend</td>\n",
              "    </tr>\n",
              "    <tr>\n",
              "      <th>2242</th>\n",
              "      <td>75015</td>\n",
              "      <td>3/3/2018</td>\n",
              "      <td>1136</td>\n",
              "      <td>1118</td>\n",
              "      <td>5</td>\n",
              "      <td>weekend</td>\n",
              "    </tr>\n",
              "    <tr>\n",
              "      <th>2249</th>\n",
              "      <td>75015</td>\n",
              "      <td>3/10/2018</td>\n",
              "      <td>1127</td>\n",
              "      <td>1111</td>\n",
              "      <td>5</td>\n",
              "      <td>weekend</td>\n",
              "    </tr>\n",
              "    <tr>\n",
              "      <th>2250</th>\n",
              "      <td>75015</td>\n",
              "      <td>3/11/2018</td>\n",
              "      <td>1038</td>\n",
              "      <td>1119</td>\n",
              "      <td>6</td>\n",
              "      <td>weekend</td>\n",
              "    </tr>\n",
              "    <tr>\n",
              "      <th>2256</th>\n",
              "      <td>75015</td>\n",
              "      <td>3/17/2018</td>\n",
              "      <td>1209</td>\n",
              "      <td>1210</td>\n",
              "      <td>5</td>\n",
              "      <td>weekend</td>\n",
              "    </tr>\n",
              "    <tr>\n",
              "      <th>2263</th>\n",
              "      <td>75015</td>\n",
              "      <td>3/24/2018</td>\n",
              "      <td>1186</td>\n",
              "      <td>1142</td>\n",
              "      <td>5</td>\n",
              "      <td>weekend</td>\n",
              "    </tr>\n",
              "    <tr>\n",
              "      <th>2277</th>\n",
              "      <td>75015</td>\n",
              "      <td>4/7/2018</td>\n",
              "      <td>1277</td>\n",
              "      <td>1171</td>\n",
              "      <td>5</td>\n",
              "      <td>weekend</td>\n",
              "    </tr>\n",
              "    <tr>\n",
              "      <th>2278</th>\n",
              "      <td>75015</td>\n",
              "      <td>4/8/2018</td>\n",
              "      <td>1082</td>\n",
              "      <td>1189</td>\n",
              "      <td>6</td>\n",
              "      <td>weekend</td>\n",
              "    </tr>\n",
              "    <tr>\n",
              "      <th>2284</th>\n",
              "      <td>75015</td>\n",
              "      <td>4/14/2018</td>\n",
              "      <td>1144</td>\n",
              "      <td>1133</td>\n",
              "      <td>5</td>\n",
              "      <td>weekend</td>\n",
              "    </tr>\n",
              "    <tr>\n",
              "      <th>2305</th>\n",
              "      <td>75015</td>\n",
              "      <td>5/5/2018</td>\n",
              "      <td>1155</td>\n",
              "      <td>1146</td>\n",
              "      <td>5</td>\n",
              "      <td>weekend</td>\n",
              "    </tr>\n",
              "    <tr>\n",
              "      <th>2315</th>\n",
              "      <td>75015</td>\n",
              "      <td>5/26/2018</td>\n",
              "      <td>1335</td>\n",
              "      <td>1276</td>\n",
              "      <td>5</td>\n",
              "      <td>weekend</td>\n",
              "    </tr>\n",
              "    <tr>\n",
              "      <th>2316</th>\n",
              "      <td>75015</td>\n",
              "      <td>5/27/2018</td>\n",
              "      <td>1152</td>\n",
              "      <td>1271</td>\n",
              "      <td>6</td>\n",
              "      <td>weekend</td>\n",
              "    </tr>\n",
              "    <tr>\n",
              "      <th>2322</th>\n",
              "      <td>75015</td>\n",
              "      <td>6/2/2018</td>\n",
              "      <td>1338</td>\n",
              "      <td>1294</td>\n",
              "      <td>5</td>\n",
              "      <td>weekend</td>\n",
              "    </tr>\n",
              "    <tr>\n",
              "      <th>2323</th>\n",
              "      <td>75015</td>\n",
              "      <td>6/3/2018</td>\n",
              "      <td>1164</td>\n",
              "      <td>1230</td>\n",
              "      <td>6</td>\n",
              "      <td>weekend</td>\n",
              "    </tr>\n",
              "    <tr>\n",
              "      <th>2329</th>\n",
              "      <td>75015</td>\n",
              "      <td>6/9/2018</td>\n",
              "      <td>1330</td>\n",
              "      <td>1332</td>\n",
              "      <td>5</td>\n",
              "      <td>weekend</td>\n",
              "    </tr>\n",
              "    <tr>\n",
              "      <th>2330</th>\n",
              "      <td>75015</td>\n",
              "      <td>6/10/2018</td>\n",
              "      <td>1087</td>\n",
              "      <td>1143</td>\n",
              "      <td>6</td>\n",
              "      <td>weekend</td>\n",
              "    </tr>\n",
              "    <tr>\n",
              "      <th>2336</th>\n",
              "      <td>75015</td>\n",
              "      <td>6/16/2018</td>\n",
              "      <td>1209</td>\n",
              "      <td>1154</td>\n",
              "      <td>5</td>\n",
              "      <td>weekend</td>\n",
              "    </tr>\n",
              "  </tbody>\n",
              "</table>\n",
              "</div>"
            ],
            "text/plain": [
              "      Postal code       date  ...  dayOfWeek  day_type\n",
              "2196        75015  1/13/2018  ...          5   weekend\n",
              "2197        75015  1/14/2018  ...          6   weekend\n",
              "2203        75015  1/20/2018  ...          5   weekend\n",
              "2204        75015  1/21/2018  ...          6   weekend\n",
              "2210        75015  1/27/2018  ...          5   weekend\n",
              "2217        75015   2/3/2018  ...          5   weekend\n",
              "2218        75015   2/4/2018  ...          6   weekend\n",
              "2224        75015  2/10/2018  ...          5   weekend\n",
              "2231        75015  2/17/2018  ...          5   weekend\n",
              "2242        75015   3/3/2018  ...          5   weekend\n",
              "2249        75015  3/10/2018  ...          5   weekend\n",
              "2250        75015  3/11/2018  ...          6   weekend\n",
              "2256        75015  3/17/2018  ...          5   weekend\n",
              "2263        75015  3/24/2018  ...          5   weekend\n",
              "2277        75015   4/7/2018  ...          5   weekend\n",
              "2278        75015   4/8/2018  ...          6   weekend\n",
              "2284        75015  4/14/2018  ...          5   weekend\n",
              "2305        75015   5/5/2018  ...          5   weekend\n",
              "2315        75015  5/26/2018  ...          5   weekend\n",
              "2316        75015  5/27/2018  ...          6   weekend\n",
              "2322        75015   6/2/2018  ...          5   weekend\n",
              "2323        75015   6/3/2018  ...          6   weekend\n",
              "2329        75015   6/9/2018  ...          5   weekend\n",
              "2330        75015  6/10/2018  ...          6   weekend\n",
              "2336        75015  6/16/2018  ...          5   weekend\n",
              "\n",
              "[25 rows x 6 columns]"
            ]
          },
          "metadata": {
            "tags": []
          },
          "execution_count": 14
        }
      ]
    },
    {
      "cell_type": "code",
      "metadata": {
        "colab": {
          "base_uri": "https://localhost:8080/"
        },
        "id": "jNgdbelUIE7w",
        "outputId": "64ac34a2-d4b2-4939-a633-e326df9071d6"
      },
      "source": [
        "# to drop the outlier values \n",
        "df1.drop(df1.loc[(df1['BlueCars_taken_sum']>1100) | (df1['BlueCars_returned_sum']>1100)].index,inplace=True)\n",
        "df1.drop(df1.loc[(df1['BlueCars_taken_sum']<600) | (df1['BlueCars_returned_sum']<600)].index,inplace=True)"
      ],
      "execution_count": 15,
      "outputs": [
        {
          "output_type": "stream",
          "text": [
            "/usr/local/lib/python3.7/dist-packages/pandas/core/frame.py:4174: SettingWithCopyWarning: \n",
            "A value is trying to be set on a copy of a slice from a DataFrame\n",
            "\n",
            "See the caveats in the documentation: https://pandas.pydata.org/pandas-docs/stable/user_guide/indexing.html#returning-a-view-versus-a-copy\n",
            "  errors=errors,\n",
            "/usr/local/lib/python3.7/dist-packages/pandas/core/frame.py:4174: SettingWithCopyWarning: \n",
            "A value is trying to be set on a copy of a slice from a DataFrame\n",
            "\n",
            "See the caveats in the documentation: https://pandas.pydata.org/pandas-docs/stable/user_guide/indexing.html#returning-a-view-versus-a-copy\n",
            "  errors=errors,\n"
          ],
          "name": "stderr"
        }
      ]
    },
    {
      "cell_type": "code",
      "metadata": {
        "colab": {
          "base_uri": "https://localhost:8080/",
          "height": 484
        },
        "id": "RE5kPhL7ILNx",
        "outputId": "f3f04679-b6d6-4c95-d29c-fcf459be1e7e"
      },
      "source": [
        "#to confirm if the outliers have been deleted\n",
        "numerical=df1[['BlueCars_taken_sum','BlueCars_returned_sum']]\n",
        "numerical.boxplot(figsize=(8,8))\n",
        "plt.show()"
      ],
      "execution_count": 16,
      "outputs": [
        {
          "output_type": "display_data",
          "data": {
            "image/png": "[encoded data removed]",
            "text/plain": [
              "<Figure size 576x576 with 1 Axes>"
            ]
          },
          "metadata": {
            "tags": [],
            "needs_background": "light"
          }
        }
      ]
    },
    {
      "cell_type": "markdown",
      "metadata": {
        "id": "TD5AvRbyJBcA"
      },
      "source": [
        "Data Type conversion"
      ]
    },
    {
      "cell_type": "code",
      "metadata": {
        "colab": {
          "base_uri": "https://localhost:8080/"
        },
        "id": "nfcIeuRqJHS_",
        "outputId": "2aefb43f-305c-4c3e-cbd6-a5c61a181b4a"
      },
      "source": [
        "df1['date']=pd.to_datetime(df1['date'])\n",
        "df1['day_type']=pd.Categorical(df1['day_type'])\n",
        "df1['dayOfWeek']=pd.Categorical(df1['dayOfWeek'])"
      ],
      "execution_count": 17,
      "outputs": [
        {
          "output_type": "stream",
          "text": [
            "/usr/local/lib/python3.7/dist-packages/ipykernel_launcher.py:1: SettingWithCopyWarning: \n",
            "A value is trying to be set on a copy of a slice from a DataFrame.\n",
            "Try using .loc[row_indexer,col_indexer] = value instead\n",
            "\n",
            "See the caveats in the documentation: https://pandas.pydata.org/pandas-docs/stable/user_guide/indexing.html#returning-a-view-versus-a-copy\n",
            "  \"\"\"Entry point for launching an IPython kernel.\n",
            "/usr/local/lib/python3.7/dist-packages/ipykernel_launcher.py:2: SettingWithCopyWarning: \n",
            "A value is trying to be set on a copy of a slice from a DataFrame.\n",
            "Try using .loc[row_indexer,col_indexer] = value instead\n",
            "\n",
            "See the caveats in the documentation: https://pandas.pydata.org/pandas-docs/stable/user_guide/indexing.html#returning-a-view-versus-a-copy\n",
            "  \n",
            "/usr/local/lib/python3.7/dist-packages/ipykernel_launcher.py:3: SettingWithCopyWarning: \n",
            "A value is trying to be set on a copy of a slice from a DataFrame.\n",
            "Try using .loc[row_indexer,col_indexer] = value instead\n",
            "\n",
            "See the caveats in the documentation: https://pandas.pydata.org/pandas-docs/stable/user_guide/indexing.html#returning-a-view-versus-a-copy\n",
            "  This is separate from the ipykernel package so we can avoid doing imports until\n"
          ],
          "name": "stderr"
        }
      ]
    },
    {
      "cell_type": "code",
      "metadata": {
        "colab": {
          "base_uri": "https://localhost:8080/"
        },
        "id": "ez1ERZt8I_jJ",
        "outputId": "502a0299-9c7b-4f42-943d-bccbb9d962a0"
      },
      "source": [
        "# to confirm if the data type transfromation has been done\n",
        "df1.dtypes"
      ],
      "execution_count": 18,
      "outputs": [
        {
          "output_type": "execute_result",
          "data": {
            "text/plain": [
              "Postal code                       int64\n",
              "date                     datetime64[ns]\n",
              "BlueCars_taken_sum                int64\n",
              "BlueCars_returned_sum             int64\n",
              "dayOfWeek                      category\n",
              "day_type                       category\n",
              "dtype: object"
            ]
          },
          "metadata": {
            "tags": []
          },
          "execution_count": 18
        }
      ]
    },
    {
      "cell_type": "markdown",
      "metadata": {
        "id": "f5itXPJNDK7z"
      },
      "source": [
        "4. Uniformity"
      ]
    },
    {
      "cell_type": "code",
      "metadata": {
        "colab": {
          "base_uri": "https://localhost:8080/"
        },
        "id": "Rj0YGLp6KJhs",
        "outputId": "6a2d2265-04af-4347-d673-8f95ea1cbe8b"
      },
      "source": [
        "df1.rename(columns={'Postal code':'Postal_code', 'dayOfWeek':'DayOfTheWeek'},inplace=True)"
      ],
      "execution_count": 19,
      "outputs": [
        {
          "output_type": "stream",
          "text": [
            "/usr/local/lib/python3.7/dist-packages/pandas/core/frame.py:4308: SettingWithCopyWarning: \n",
            "A value is trying to be set on a copy of a slice from a DataFrame\n",
            "\n",
            "See the caveats in the documentation: https://pandas.pydata.org/pandas-docs/stable/user_guide/indexing.html#returning-a-view-versus-a-copy\n",
            "  errors=errors,\n"
          ],
          "name": "stderr"
        }
      ]
    },
    {
      "cell_type": "code",
      "metadata": {
        "colab": {
          "base_uri": "https://localhost:8080/"
        },
        "id": "yVfIuoosKJj3",
        "outputId": "a191bdcb-91d2-4d57-ebf7-ab63fc03420a"
      },
      "source": [
        "#to confirm if the renaming has been done\n",
        "df1.columns"
      ],
      "execution_count": 20,
      "outputs": [
        {
          "output_type": "execute_result",
          "data": {
            "text/plain": [
              "Index(['Postal_code', 'date', 'BlueCars_taken_sum', 'BlueCars_returned_sum',\n",
              "       'DayOfTheWeek', 'day_type'],\n",
              "      dtype='object')"
            ]
          },
          "metadata": {
            "tags": []
          },
          "execution_count": 20
        }
      ]
    },
    {
      "cell_type": "markdown",
      "metadata": {
        "id": "_beu3KvP-ptI"
      },
      "source": [
        "# EDA"
      ]
    },
    {
      "cell_type": "markdown",
      "metadata": {
        "id": "fe8RcsJU-xI6"
      },
      "source": [
        "## 1. Univariate analysis"
      ]
    },
    {
      "cell_type": "markdown",
      "metadata": {
        "id": "MSBof8cm_dwv"
      },
      "source": [
        "### Postal code"
      ]
    },
    {
      "cell_type": "code",
      "metadata": {
        "colab": {
          "base_uri": "https://localhost:8080/",
          "height": 482
        },
        "id": "3WrW62de_gWJ",
        "outputId": "3eeb3ce2-bb98-40c2-9514-e40607314db2"
      },
      "source": [
        "df1['Postal_code'].value_counts().plot(kind='pie',figsize=(8,8),autopct='%1.3f%%')\n",
        "plt.title('distribution of observations in the two stations')\n",
        "plt.show()"
      ],
      "execution_count": 21,
      "outputs": [
        {
          "output_type": "display_data",
          "data": {
            "image/png": "[encoded data removed]",
            "text/plain": [
              "<Figure size 576x576 with 1 Axes>"
            ]
          },
          "metadata": {
            "tags": []
          }
        }
      ]
    },
    {
      "cell_type": "markdown",
      "metadata": {
        "id": "iK-lhLsBAXBF"
      },
      "source": [
        "- we can see that both stations have the same number of observations"
      ]
    },
    {
      "cell_type": "markdown",
      "metadata": {
        "id": "OgmFwIZLEmCL"
      },
      "source": [
        "### Numerical Fields"
      ]
    },
    {
      "cell_type": "markdown",
      "metadata": {
        "id": "IBs1U5zzDBLF"
      },
      "source": [
        "To check on the distribution of the numerical columns"
      ]
    },
    {
      "cell_type": "code",
      "metadata": {
        "colab": {
          "base_uri": "https://localhost:8080/",
          "height": 444
        },
        "id": "QiQF9JeMDjCO",
        "outputId": "5a34681d-d5dc-4265-d516-4e026d1435d9"
      },
      "source": [
        "# distribution of number of cars returned\n",
        "df1.BlueCars_returned_sum.plot(kind='kde',figsize=(7,7))\n",
        "plt.title('distribution of number of cars returned')\n",
        "plt.show()"
      ],
      "execution_count": 22,
      "outputs": [
        {
          "output_type": "display_data",
          "data": {
            "image/png": "[encoded data removed]",
            "text/plain": [
              "<Figure size 504x504 with 1 Axes>"
            ]
          },
          "metadata": {
            "tags": [],
            "needs_background": "light"
          }
        }
      ]
    },
    {
      "cell_type": "code",
      "metadata": {
        "colab": {
          "base_uri": "https://localhost:8080/"
        },
        "id": "BK36gVOKUYm6",
        "outputId": "de00529f-a8a6-473e-db77-2d6fbfe34fb6"
      },
      "source": [
        "# to check on the statistical attributes of this column\n",
        "print('kurtosis of the number of cars taken: ',df1['BlueCars_returned_sum'].kurt())\n",
        "print('skewness of the number of cars taken: ',df1['BlueCars_returned_sum'].skew())\n",
        "\n",
        "# the skewness and kurtosis suggest that the column is not normally distributed\n",
        "print('\\n')\n",
        "print('skewness of normal distribution is 0')\n",
        "print('kurtosis of a normal distribution is 3')\n",
        "# we will perform the shapiro test to look if the column is normally distributed"
      ],
      "execution_count": 23,
      "outputs": [
        {
          "output_type": "stream",
          "text": [
            "kurtosis of the number of cars taken:  -0.41267013709486244\n",
            "skewness of the number of cars taken:  0.3540690121618152\n",
            "\n",
            "\n",
            "skewness of normal distribution is 0\n",
            "kurtosis of a normal distribution is 3\n"
          ],
          "name": "stdout"
        }
      ]
    },
    {
      "cell_type": "code",
      "metadata": {
        "colab": {
          "base_uri": "https://localhost:8080/"
        },
        "id": "vNzP992tVi59",
        "outputId": "f2de4fab-ba0a-4a6f-a5a7-54309719e57c"
      },
      "source": [
        "from scipy.stats import shapiro\n",
        "stats,p=shapiro(df1['BlueCars_returned_sum'])\n",
        "\n",
        "print('statistic=%.3f,p=%.3f'%(stats,p))\n",
        "\n",
        "#decision rule\n",
        "alpha=0.05\n",
        "if p>alpha:\n",
        "  print(' data is normally distributed')\n",
        "else:\n",
        "  print('data is not normally distributed')"
      ],
      "execution_count": 24,
      "outputs": [
        {
          "output_type": "stream",
          "text": [
            "statistic=0.977,p=0.000\n",
            "data is not normally distributed\n"
          ],
          "name": "stdout"
        }
      ]
    },
    {
      "cell_type": "code",
      "metadata": {
        "colab": {
          "base_uri": "https://localhost:8080/",
          "height": 444
        },
        "id": "nXy6uZ-nDqNj",
        "outputId": "d1328d0a-917a-464e-c787-bd84ab3b2b7a"
      },
      "source": [
        "# distribution of number of cars taken\n",
        "df1.BlueCars_taken_sum.plot(kind='kde',figsize=(7,7))\n",
        "plt.title('distribution of number of cars taken')\n",
        "plt.show()"
      ],
      "execution_count": 25,
      "outputs": [
        {
          "output_type": "display_data",
          "data": {
            "image/png": "[encoded data removed]",
            "text/plain": [
              "<Figure size 504x504 with 1 Axes>"
            ]
          },
          "metadata": {
            "tags": [],
            "needs_background": "light"
          }
        }
      ]
    },
    {
      "cell_type": "code",
      "metadata": {
        "colab": {
          "base_uri": "https://localhost:8080/"
        },
        "id": "q5ygeD0OW22C",
        "outputId": "a3428c2e-e7c7-47c8-ff4a-9f85fb36380f"
      },
      "source": [
        "#we will look at the statistical attributes of this column\n",
        "print('kurtosis of the blue cars taken',df1['BlueCars_taken_sum'].kurt())\n",
        "print('skweness of the blue cars taken',df1['BlueCars_taken_sum'].skew())\n",
        "\n",
        "# the skewness and kurtosis suggest that the column is not normally distributed\n",
        "print('\\n')\n",
        "print('skewness of normal distribution is 0')\n",
        "print('kurtosis of a normal distribution is 3')\n",
        "# we will perform the shapiro test to look if the column is normally distributed"
      ],
      "execution_count": 26,
      "outputs": [
        {
          "output_type": "stream",
          "text": [
            "kurtosis of the blue cars taken -0.46672193306334897\n",
            "skweness of the blue cars taken 0.34747077346514477\n",
            "\n",
            "\n",
            "skewness of normal distribution is 0\n",
            "kurtosis of a normal distribution is 3\n"
          ],
          "name": "stdout"
        }
      ]
    },
    {
      "cell_type": "code",
      "metadata": {
        "colab": {
          "base_uri": "https://localhost:8080/"
        },
        "id": "Rt3-5kZ_XZoM",
        "outputId": "f09fd00a-f78d-4937-8dbe-2ba29eb62a4b"
      },
      "source": [
        "# conducting the shapiro test for normality\n",
        "from scipy.stats import shapiro\n",
        "stats,p=shapiro(df1['BlueCars_taken_sum'])\n",
        "\n",
        "print('statistics=%.3f,p=%.3f '%(stats,p))\n",
        "\n",
        "alpha=0.05\n",
        "if p>alpha:\n",
        "  print('data is normally distributed')\n",
        "else:\n",
        "  print('data is not normally distributed')"
      ],
      "execution_count": 27,
      "outputs": [
        {
          "output_type": "stream",
          "text": [
            "statistics=0.980,p=0.001 \n",
            "data is not normally distributed\n"
          ],
          "name": "stdout"
        }
      ]
    },
    {
      "cell_type": "markdown",
      "metadata": {
        "id": "PkGxzb48AhXf"
      },
      "source": [
        "### Day Of The Week"
      ]
    },
    {
      "cell_type": "code",
      "metadata": {
        "colab": {
          "base_uri": "https://localhost:8080/",
          "height": 427
        },
        "id": "CunNkRbzAlXF",
        "outputId": "8fae7b05-e106-4ed2-b0f9-4677a628cc00"
      },
      "source": [
        "explode=[0.1,0.1,0,0,0,0,0]\n",
        "df1['DayOfTheWeek'].value_counts().plot(kind='pie',figsize=(7,7), autopct='%1.3f%%',explode=explode)\n",
        "plt.title('observations distrubuted across the days of the weeks')\n",
        "plt.show()"
      ],
      "execution_count": 28,
      "outputs": [
        {
          "output_type": "display_data",
          "data": {
            "image/png": "[encoded data removed]",
            "text/plain": [
              "<Figure size 504x504 with 1 Axes>"
            ]
          },
          "metadata": {
            "tags": []
          }
        }
      ]
    },
    {
      "cell_type": "markdown",
      "metadata": {
        "id": "WPvpygYaR9q3"
      },
      "source": [
        "- In all the days, the number of observations were 44\n",
        "- In day 0 and 1, is when there were more 46 records made"
      ]
    },
    {
      "cell_type": "markdown",
      "metadata": {
        "id": "r2pKUmvbSflB"
      },
      "source": [
        "- this shows that there is no unequal distribution of observations between the days of the weeks\n",
        "- this reduces the instances of biasness"
      ]
    },
    {
      "cell_type": "markdown",
      "metadata": {
        "id": "0_kP6cB8Sz6L"
      },
      "source": [
        "### Day Type"
      ]
    },
    {
      "cell_type": "code",
      "metadata": {
        "colab": {
          "base_uri": "https://localhost:8080/"
        },
        "id": "IMVrdXln9EYU",
        "outputId": "643009b6-7685-42fa-f8e4-c1f5ff41eaad"
      },
      "source": [
        "print('**** number of observations btwn weekdays and weekends ****')\n",
        "autolib['day_type'].value_counts()"
      ],
      "execution_count": 29,
      "outputs": [
        {
          "output_type": "stream",
          "text": [
            "**** number of observations btwn weekdays and weekends ****\n"
          ],
          "name": "stdout"
        },
        {
          "output_type": "execute_result",
          "data": {
            "text/plain": [
              "weekday    11544\n",
              "weekend     4541\n",
              "Name: day_type, dtype: int64"
            ]
          },
          "metadata": {
            "tags": []
          },
          "execution_count": 29
        }
      ]
    },
    {
      "cell_type": "code",
      "metadata": {
        "colab": {
          "base_uri": "https://localhost:8080/",
          "height": 533
        },
        "id": "4w1sUxyUSDDu",
        "outputId": "5d60ebda-ccca-4082-d2fb-e4e51be96f03"
      },
      "source": [
        "(autolib['day_type'].value_counts()/len(autolib['day_type'])*100).plot(kind='bar',figsize=(8,8))\n",
        "plt.title('percentage distribution of observations between weekdays and weekends')\n",
        "plt.show()"
      ],
      "execution_count": 30,
      "outputs": [
        {
          "output_type": "display_data",
          "data": {
            "image/png": "[encoded data removed]",
            "text/plain": [
              "<Figure size 576x576 with 1 Axes>"
            ]
          },
          "metadata": {
            "tags": [],
            "needs_background": "light"
          }
        }
      ]
    },
    {
      "cell_type": "markdown",
      "metadata": {
        "id": "VS4Ov8TETXGG"
      },
      "source": [
        "- most observations were made in weekends than during weekends\n",
        "- this is normal since there are more weekdays than weekends"
      ]
    },
    {
      "cell_type": "markdown",
      "metadata": {
        "id": "Psv9whIMU2He"
      },
      "source": [
        "## Bivariate Analysis"
      ]
    },
    {
      "cell_type": "markdown",
      "metadata": {
        "id": "5KedTbDMQsEf"
      },
      "source": [
        "#### Numerical Variables\n",
        "\n",
        "\n"
      ]
    },
    {
      "cell_type": "markdown",
      "metadata": {
        "id": "NXcprLc3RCmn"
      },
      "source": [
        "- the numerical variables are BlueCars_taken_sum & BlueCars_returned_sum"
      ]
    },
    {
      "cell_type": "code",
      "metadata": {
        "colab": {
          "base_uri": "https://localhost:8080/",
          "height": 111
        },
        "id": "KAecTqNpQs2Z",
        "outputId": "e6fda636-2dbb-47d4-e624-a05e9e408b48"
      },
      "source": [
        "df1[['BlueCars_taken_sum','BlueCars_returned_sum']].corr()\n",
        "\n",
        "# to visualize this,we will use a correlation heatmap"
      ],
      "execution_count": 31,
      "outputs": [
        {
          "output_type": "execute_result",
          "data": {
            "text/html": [
              "<div>\n",
              "<style scoped>\n",
              "    .dataframe tbody tr th:only-of-type {\n",
              "        vertical-align: middle;\n",
              "    }\n",
              "\n",
              "    .dataframe tbody tr th {\n",
              "        vertical-align: top;\n",
              "    }\n",
              "\n",
              "    .dataframe thead th {\n",
              "        text-align: right;\n",
              "    }\n",
              "</style>\n",
              "<table border=\"1\" class=\"dataframe\">\n",
              "  <thead>\n",
              "    <tr style=\"text-align: right;\">\n",
              "      <th></th>\n",
              "      <th>BlueCars_taken_sum</th>\n",
              "      <th>BlueCars_returned_sum</th>\n",
              "    </tr>\n",
              "  </thead>\n",
              "  <tbody>\n",
              "    <tr>\n",
              "      <th>BlueCars_taken_sum</th>\n",
              "      <td>1.000000</td>\n",
              "      <td>0.970512</td>\n",
              "    </tr>\n",
              "    <tr>\n",
              "      <th>BlueCars_returned_sum</th>\n",
              "      <td>0.970512</td>\n",
              "      <td>1.000000</td>\n",
              "    </tr>\n",
              "  </tbody>\n",
              "</table>\n",
              "</div>"
            ],
            "text/plain": [
              "                       BlueCars_taken_sum  BlueCars_returned_sum\n",
              "BlueCars_taken_sum               1.000000               0.970512\n",
              "BlueCars_returned_sum            0.970512               1.000000"
            ]
          },
          "metadata": {
            "tags": []
          },
          "execution_count": 31
        }
      ]
    },
    {
      "cell_type": "code",
      "metadata": {
        "colab": {
          "base_uri": "https://localhost:8080/",
          "height": 500
        },
        "id": "7qFwzD0YQuJz",
        "outputId": "44d47164-a2bf-405f-c46d-de076b6eef4c"
      },
      "source": [
        "plt.figure(figsize=(8,8))\n",
        "plt.title('correlation heatmap')\n",
        "sns.heatmap(df1[['BlueCars_taken_sum','BlueCars_returned_sum']].corr(),vmax=1,annot=True)\n",
        "plt.show()"
      ],
      "execution_count": 32,
      "outputs": [
        {
          "output_type": "display_data",
          "data": {
            "image/png": "[encoded data removed]",
            "text/plain": [
              "<Figure size 576x576 with 2 Axes>"
            ]
          },
          "metadata": {
            "tags": [],
            "needs_background": "light"
          }
        }
      ]
    },
    {
      "cell_type": "code",
      "metadata": {
        "colab": {
          "base_uri": "https://localhost:8080/",
          "height": 513
        },
        "id": "AJGNHgReRzE7",
        "outputId": "a407b687-9e2f-46fd-9e05-97a613d8bb31"
      },
      "source": [
        "a=df1['BlueCars_taken_sum']\n",
        "b=df1['BlueCars_returned_sum']\n",
        "plt.figure(figsize=(8,8))\n",
        "plt.scatter(a,b)\n",
        "plt.title('scatter plot')\n",
        "plt.ylabel('blue cars returned')\n",
        "plt.xlabel('blue cars retuned')\n",
        "plt.show()"
      ],
      "execution_count": 33,
      "outputs": [
        {
          "output_type": "display_data",
          "data": {
            "image/png": "[encoded data removed]",
            "text/plain": [
              "<Figure size 576x576 with 1 Axes>"
            ]
          },
          "metadata": {
            "tags": [],
            "needs_background": "light"
          }
        }
      ]
    },
    {
      "cell_type": "markdown",
      "metadata": {
        "id": "6-587oOaUBoZ"
      },
      "source": [
        "- we can see that the two numerical columns are closely correlated\n",
        "- the correlation is positive"
      ]
    },
    {
      "cell_type": "code",
      "metadata": {
        "colab": {
          "base_uri": "https://localhost:8080/",
          "height": 374
        },
        "id": "wx4O89sbM1YT",
        "outputId": "65c4f833-501e-4774-c4b2-9c8430587a6b"
      },
      "source": [
        "sns.pairplot(numerical)\n",
        "plt.title('pairplot')\n",
        "plt.show()"
      ],
      "execution_count": 34,
      "outputs": [
        {
          "output_type": "display_data",
          "data": {
            "image/png": "[encoded data removed]",
            "text/plain": [
              "<Figure size 360x360 with 6 Axes>"
            ]
          },
          "metadata": {
            "tags": [],
            "needs_background": "light"
          }
        }
      ]
    },
    {
      "cell_type": "markdown",
      "metadata": {
        "id": "zEbK-ugigi53"
      },
      "source": [
        "### Number of cars picked vs number of cars returned"
      ]
    },
    {
      "cell_type": "code",
      "metadata": {
        "colab": {
          "base_uri": "https://localhost:8080/",
          "height": 473
        },
        "id": "PXXEnQizgpXa",
        "outputId": "bdf765d2-5795-45f0-ef7d-5114e5ef66ce"
      },
      "source": [
        "numerical=df1[['date','BlueCars_taken_sum','BlueCars_returned_sum']]\n",
        "numerical.set_index('date')\n",
        "numerical.plot(x='date',figsize=(8,8))\n",
        "plt.show()"
      ],
      "execution_count": 35,
      "outputs": [
        {
          "output_type": "display_data",
          "data": {
            "image/png": "[encoded data removed]",
            "text/plain": [
              "<Figure size 576x576 with 1 Axes>"
            ]
          },
          "metadata": {
            "tags": [],
            "needs_background": "light"
          }
        }
      ]
    },
    {
      "cell_type": "markdown",
      "metadata": {
        "id": "OLm3lGROVF5s"
      },
      "source": [
        "#### Postal Code vs Sum of Blue Cars Taken"
      ]
    },
    {
      "cell_type": "code",
      "metadata": {
        "colab": {
          "base_uri": "https://localhost:8080/"
        },
        "id": "dbkGNiTzdkFE",
        "outputId": "2770ed56-85d0-4ff1-97c3-3ccc6822638e"
      },
      "source": [
        "df1.groupby('Postal_code')['BlueCars_taken_sum'].sum()"
      ],
      "execution_count": 36,
      "outputs": [
        {
          "output_type": "execute_result",
          "data": {
            "text/plain": [
              "Postal_code\n",
              "75015    109508\n",
              "75016    119786\n",
              "Name: BlueCars_taken_sum, dtype: int64"
            ]
          },
          "metadata": {
            "tags": []
          },
          "execution_count": 36
        }
      ]
    },
    {
      "cell_type": "code",
      "metadata": {
        "colab": {
          "base_uri": "https://localhost:8080/",
          "height": 482
        },
        "id": "jNxZ95ciX-YY",
        "outputId": "966077a4-86d4-49f8-ee37-7ca909b9a497"
      },
      "source": [
        "explode=[0,0.1]\n",
        "df1.groupby('Postal_code')['BlueCars_taken_sum'].sum().plot(kind='pie',figsize=(8,8),autopct='%1.3f%%',explode=explode)\n",
        "plt.title('Distribution of Number of cars picked from the two stations')\n",
        "plt.show()"
      ],
      "execution_count": 37,
      "outputs": [
        {
          "output_type": "display_data",
          "data": {
            "image/png": "[encoded data removed]",
            "text/plain": [
              "<Figure size 576x576 with 1 Axes>"
            ]
          },
          "metadata": {
            "tags": []
          }
        }
      ]
    },
    {
      "cell_type": "markdown",
      "metadata": {
        "id": "iofjvo0kZKhD"
      },
      "source": [
        "- More cars were picked from the station *75015*"
      ]
    },
    {
      "cell_type": "markdown",
      "metadata": {
        "id": "YiWp2BiJZYyD"
      },
      "source": [
        "#### Postal Adress vs BlueCars_returned_sum"
      ]
    },
    {
      "cell_type": "code",
      "metadata": {
        "colab": {
          "base_uri": "https://localhost:8080/"
        },
        "id": "1N2ITA1nZp0j",
        "outputId": "1fbf58be-c877-4c2d-df47-60c67e86440f"
      },
      "source": [
        "df1.groupby('Postal_code')['BlueCars_returned_sum'].sum()"
      ],
      "execution_count": 38,
      "outputs": [
        {
          "output_type": "execute_result",
          "data": {
            "text/plain": [
              "Postal_code\n",
              "75015    109503\n",
              "75016    119679\n",
              "Name: BlueCars_returned_sum, dtype: int64"
            ]
          },
          "metadata": {
            "tags": []
          },
          "execution_count": 38
        }
      ]
    },
    {
      "cell_type": "code",
      "metadata": {
        "colab": {
          "base_uri": "https://localhost:8080/",
          "height": 482
        },
        "id": "YAhNQJcMZmvK",
        "outputId": "104cc6c0-6a11-4647-b44f-debb43d43633"
      },
      "source": [
        "explode=[0,0.1]\n",
        "df1.groupby('Postal_code')['BlueCars_returned_sum'].sum().plot(kind='pie',figsize=(8,8),autopct='%1.3f%%',explode=explode)\n",
        "plt.title('Distribution of Number of cars returned from the two stations')\n",
        "plt.show()"
      ],
      "execution_count": 39,
      "outputs": [
        {
          "output_type": "display_data",
          "data": {
            "image/png": "[encoded data removed]",
            "text/plain": [
              "<Figure size 576x576 with 1 Axes>"
            ]
          },
          "metadata": {
            "tags": []
          }
        }
      ]
    },
    {
      "cell_type": "markdown",
      "metadata": {
        "id": "g4WlH-ijZ0M4"
      },
      "source": [
        "- more cars were returned in the station *75016* "
      ]
    },
    {
      "cell_type": "markdown",
      "metadata": {
        "id": "sKNMcjlLaU-V"
      },
      "source": [
        "#### Day Type"
      ]
    },
    {
      "cell_type": "code",
      "metadata": {
        "colab": {
          "base_uri": "https://localhost:8080/"
        },
        "id": "d_i387EiaXTe",
        "outputId": "bed0561d-2350-499d-cc6e-d4ec3b1868bb"
      },
      "source": [
        "daytype=df1[['Postal_code','BlueCars_taken_sum','BlueCars_returned_sum','day_type']]\n",
        "#'Postal code','date','BlueCars_taken_sum','BlueCars_returned_sum','dayOfWeek','day_type'\n",
        "print('**** sum of cars taken and returned during weekdays and over weekend****')\n",
        "print(daytype.groupby(['Postal_code','day_type']).sum())\n",
        "print('\\n **** average of cars taken and returned during weekdays and over weekend ****')\n",
        "print(daytype.groupby(['Postal_code','day_type']).mean())"
      ],
      "execution_count": 40,
      "outputs": [
        {
          "output_type": "stream",
          "text": [
            "**** sum of cars taken and returned during weekdays and over weekend****\n",
            "                      BlueCars_taken_sum  BlueCars_returned_sum\n",
            "Postal_code day_type                                           \n",
            "75015       weekday                92049                  91595\n",
            "            weekend                17459                  17908\n",
            "75016       weekday                81352                  81113\n",
            "            weekend                38434                  38566\n",
            "\n",
            " **** average of cars taken and returned during weekdays and over weekend ****\n",
            "                      BlueCars_taken_sum  BlueCars_returned_sum\n",
            "Postal_code day_type                                           \n",
            "75015       weekday           836.809091             832.681818\n",
            "            weekend           969.944444             994.888889\n",
            "75016       weekday           767.471698             765.216981\n",
            "            weekend           915.095238             918.238095\n"
          ],
          "name": "stdout"
        }
      ]
    },
    {
      "cell_type": "code",
      "metadata": {
        "colab": {
          "base_uri": "https://localhost:8080/",
          "height": 377
        },
        "id": "kUE8AYYmarjq",
        "outputId": "82d0d10f-7d9f-4a36-f10b-aa3487c42ee0"
      },
      "source": [
        "su=a=daytype.groupby(['Postal_code','day_type']).sum()\n",
        "su.plot(kind='bar')\n",
        "plt.title('sum of cars picked and returned during weekdays and over the weekends')\n",
        "plt.show()"
      ],
      "execution_count": 41,
      "outputs": [
        {
          "output_type": "display_data",
          "data": {
            "image/png": "[encoded data removed]",
            "text/plain": [
              "<Figure size 432x288 with 1 Axes>"
            ]
          },
          "metadata": {
            "tags": [],
            "needs_background": "light"
          }
        }
      ]
    },
    {
      "cell_type": "code",
      "metadata": {
        "colab": {
          "base_uri": "https://localhost:8080/",
          "height": 377
        },
        "id": "Az2zauayav-1",
        "outputId": "b2ec1bf2-4c77-49aa-83a4-8fbab5ef6e7a"
      },
      "source": [
        "av=daytype.groupby(['Postal_code','day_type']).mean()\n",
        "av.plot(kind='bar')\n",
        "plt.title('average of cars picked and returned during weekdays and over the weekend')\n",
        "plt.show()"
      ],
      "execution_count": 42,
      "outputs": [
        {
          "output_type": "display_data",
          "data": {
            "image/png": "[encoded data removed]",
            "text/plain": [
              "<Figure size 432x288 with 1 Axes>"
            ]
          },
          "metadata": {
            "tags": [],
            "needs_background": "light"
          }
        }
      ]
    },
    {
      "cell_type": "markdown",
      "metadata": {
        "id": "Cp-N5QZoOH3Y"
      },
      "source": [
        "On average, more cars we picked during the weekends in both stations"
      ]
    },
    {
      "cell_type": "markdown",
      "metadata": {
        "id": "wyfjzenva8Wk"
      },
      "source": [
        "#### day of the week "
      ]
    },
    {
      "cell_type": "code",
      "metadata": {
        "colab": {
          "base_uri": "https://localhost:8080/",
          "height": 514
        },
        "id": "PgH0VA5SbAsU",
        "outputId": "e08698ec-a973-4293-bd2f-af75324b9d74"
      },
      "source": [
        "weekday=df1[['Postal_code','BlueCars_taken_sum','BlueCars_returned_sum','DayOfTheWeek']]\n",
        "weekday.groupby(['Postal_code','DayOfTheWeek']).sum()"
      ],
      "execution_count": 46,
      "outputs": [
        {
          "output_type": "execute_result",
          "data": {
            "text/html": [
              "<div>\n",
              "<style scoped>\n",
              "    .dataframe tbody tr th:only-of-type {\n",
              "        vertical-align: middle;\n",
              "    }\n",
              "\n",
              "    .dataframe tbody tr th {\n",
              "        vertical-align: top;\n",
              "    }\n",
              "\n",
              "    .dataframe thead th {\n",
              "        text-align: right;\n",
              "    }\n",
              "</style>\n",
              "<table border=\"1\" class=\"dataframe\">\n",
              "  <thead>\n",
              "    <tr style=\"text-align: right;\">\n",
              "      <th></th>\n",
              "      <th></th>\n",
              "      <th>BlueCars_taken_sum</th>\n",
              "      <th>BlueCars_returned_sum</th>\n",
              "    </tr>\n",
              "    <tr>\n",
              "      <th>Postal_code</th>\n",
              "      <th>DayOfTheWeek</th>\n",
              "      <th></th>\n",
              "      <th></th>\n",
              "    </tr>\n",
              "  </thead>\n",
              "  <tbody>\n",
              "    <tr>\n",
              "      <th rowspan=\"7\" valign=\"top\">75015</th>\n",
              "      <th>0</th>\n",
              "      <td>17751</td>\n",
              "      <td>18082</td>\n",
              "    </tr>\n",
              "    <tr>\n",
              "      <th>1</th>\n",
              "      <td>17811</td>\n",
              "      <td>17747</td>\n",
              "    </tr>\n",
              "    <tr>\n",
              "      <th>2</th>\n",
              "      <td>17558</td>\n",
              "      <td>17496</td>\n",
              "    </tr>\n",
              "    <tr>\n",
              "      <th>3</th>\n",
              "      <td>18323</td>\n",
              "      <td>18235</td>\n",
              "    </tr>\n",
              "    <tr>\n",
              "      <th>4</th>\n",
              "      <td>20606</td>\n",
              "      <td>20035</td>\n",
              "    </tr>\n",
              "    <tr>\n",
              "      <th>5</th>\n",
              "      <td>4092</td>\n",
              "      <td>3946</td>\n",
              "    </tr>\n",
              "    <tr>\n",
              "      <th>6</th>\n",
              "      <td>13367</td>\n",
              "      <td>13962</td>\n",
              "    </tr>\n",
              "    <tr>\n",
              "      <th rowspan=\"7\" valign=\"top\">75016</th>\n",
              "      <th>0</th>\n",
              "      <td>15045</td>\n",
              "      <td>15015</td>\n",
              "    </tr>\n",
              "    <tr>\n",
              "      <th>1</th>\n",
              "      <td>15883</td>\n",
              "      <td>15643</td>\n",
              "    </tr>\n",
              "    <tr>\n",
              "      <th>2</th>\n",
              "      <td>16843</td>\n",
              "      <td>16689</td>\n",
              "    </tr>\n",
              "    <tr>\n",
              "      <th>3</th>\n",
              "      <td>15703</td>\n",
              "      <td>15780</td>\n",
              "    </tr>\n",
              "    <tr>\n",
              "      <th>4</th>\n",
              "      <td>17878</td>\n",
              "      <td>17986</td>\n",
              "    </tr>\n",
              "    <tr>\n",
              "      <th>5</th>\n",
              "      <td>20316</td>\n",
              "      <td>20234</td>\n",
              "    </tr>\n",
              "    <tr>\n",
              "      <th>6</th>\n",
              "      <td>18118</td>\n",
              "      <td>18332</td>\n",
              "    </tr>\n",
              "  </tbody>\n",
              "</table>\n",
              "</div>"
            ],
            "text/plain": [
              "                          BlueCars_taken_sum  BlueCars_returned_sum\n",
              "Postal_code DayOfTheWeek                                           \n",
              "75015       0                          17751                  18082\n",
              "            1                          17811                  17747\n",
              "            2                          17558                  17496\n",
              "            3                          18323                  18235\n",
              "            4                          20606                  20035\n",
              "            5                           4092                   3946\n",
              "            6                          13367                  13962\n",
              "75016       0                          15045                  15015\n",
              "            1                          15883                  15643\n",
              "            2                          16843                  16689\n",
              "            3                          15703                  15780\n",
              "            4                          17878                  17986\n",
              "            5                          20316                  20234\n",
              "            6                          18118                  18332"
            ]
          },
          "metadata": {
            "tags": []
          },
          "execution_count": 46
        }
      ]
    },
    {
      "cell_type": "markdown",
      "metadata": {
        "id": "Q1nYSJePcrYY"
      },
      "source": [
        "##### how cars were picked and returned in days of the week in station 75015"
      ]
    },
    {
      "cell_type": "code",
      "metadata": {
        "colab": {
          "base_uri": "https://localhost:8080/"
        },
        "id": "W3U44gqtOa9F",
        "outputId": "b6478b0b-2a13-42c6-b02d-f5c4a26f1bf8"
      },
      "source": [
        "df1.columns"
      ],
      "execution_count": 44,
      "outputs": [
        {
          "output_type": "execute_result",
          "data": {
            "text/plain": [
              "Index(['Postal_code', 'date', 'BlueCars_taken_sum', 'BlueCars_returned_sum',\n",
              "       'DayOfTheWeek', 'day_type'],\n",
              "      dtype='object')"
            ]
          },
          "metadata": {
            "tags": []
          },
          "execution_count": 44
        }
      ]
    },
    {
      "cell_type": "code",
      "metadata": {
        "colab": {
          "base_uri": "https://localhost:8080/",
          "height": 435
        },
        "id": "n2Qb6lGRbIQU",
        "outputId": "804df2e6-b4fa-418f-ecf4-4bb5903ccf10"
      },
      "source": [
        "pcode75015=weekday.loc[weekday['Postal_code']==75015]\n",
        "pcode75015.drop(['Postal_code'],axis=1,inplace=True)\n",
        "pcode75015.groupby(['DayOfTheWeek']).mean().plot(figsize=(8,5))\n",
        "plt.title('plot of how cars are picked or returned in the station with postal address 75015')\n",
        "plt.ylabel('average')\n",
        "plt.show()"
      ],
      "execution_count": 49,
      "outputs": [
        {
          "output_type": "stream",
          "text": [
            "/usr/local/lib/python3.7/dist-packages/pandas/core/frame.py:4174: SettingWithCopyWarning: \n",
            "A value is trying to be set on a copy of a slice from a DataFrame\n",
            "\n",
            "See the caveats in the documentation: https://pandas.pydata.org/pandas-docs/stable/user_guide/indexing.html#returning-a-view-versus-a-copy\n",
            "  errors=errors,\n"
          ],
          "name": "stderr"
        },
        {
          "output_type": "display_data",
          "data": {
            "image/png": "[encoded data removed]",
            "text/plain": [
              "<Figure size 576x360 with 1 Axes>"
            ]
          },
          "metadata": {
            "tags": [],
            "needs_background": "light"
          }
        }
      ]
    },
    {
      "cell_type": "markdown",
      "metadata": {
        "id": "7v4f1VpNc4LA"
      },
      "source": [
        "##### how cars were picked and returned in days of the week in station 75016"
      ]
    },
    {
      "cell_type": "code",
      "metadata": {
        "colab": {
          "base_uri": "https://localhost:8080/",
          "height": 435
        },
        "id": "G54YZhBLbP-8",
        "outputId": "4a954f4a-3cbd-4df5-ca8d-5e7141679306"
      },
      "source": [
        "pcode75016=weekday.loc[weekday['Postal_code']==75016]\n",
        "pcode75016.drop(['Postal_code'],axis=1,inplace=True)\n",
        "pcode75016.groupby(['DayOfTheWeek']).mean().plot(figsize=(8,5))\n",
        "plt.title('plot of how cars are picked or returned in the station with postal address 75015')\n",
        "plt.ylabel('average')\n",
        "plt.show()"
      ],
      "execution_count": 52,
      "outputs": [
        {
          "output_type": "stream",
          "text": [
            "/usr/local/lib/python3.7/dist-packages/pandas/core/frame.py:4174: SettingWithCopyWarning: \n",
            "A value is trying to be set on a copy of a slice from a DataFrame\n",
            "\n",
            "See the caveats in the documentation: https://pandas.pydata.org/pandas-docs/stable/user_guide/indexing.html#returning-a-view-versus-a-copy\n",
            "  errors=errors,\n"
          ],
          "name": "stderr"
        },
        {
          "output_type": "display_data",
          "data": {
            "image/png": "[encoded data removed]",
            "text/plain": [
              "<Figure size 576x360 with 1 Axes>"
            ]
          },
          "metadata": {
            "tags": [],
            "needs_background": "light"
          }
        }
      ]
    },
    {
      "cell_type": "markdown",
      "metadata": {
        "id": "otb9shWKcVbB"
      },
      "source": [
        "### Day of the week and number of cars taken or returned jointly"
      ]
    },
    {
      "cell_type": "code",
      "metadata": {
        "colab": {
          "base_uri": "https://localhost:8080/",
          "height": 513
        },
        "id": "S1rMxXPtblPu",
        "outputId": "7fdddf8a-fc0c-4fdc-a953-3c9fca82a245"
      },
      "source": [
        "dayofweek=df1[['DayOfTheWeek','BlueCars_taken_sum','BlueCars_returned_sum']]\n",
        "dayofweek.groupby('DayOfTheWeek').mean().plot(figsize=(8,8))\n",
        "plt.title('joint plot of how cars are taken and returned over the days of the week')\n",
        "plt.show()"
      ],
      "execution_count": 54,
      "outputs": [
        {
          "output_type": "display_data",
          "data": {
            "image/png": "[encoded data removed]",
            "text/plain": [
              "<Figure size 576x576 with 1 Axes>"
            ]
          },
          "metadata": {
            "tags": [],
            "needs_background": "light"
          }
        }
      ]
    },
    {
      "cell_type": "markdown",
      "metadata": {
        "id": "MoE57LzhlUVl"
      },
      "source": [
        "## Hypothesis Testing"
      ]
    },
    {
      "cell_type": "markdown",
      "metadata": {
        "id": "7nAD88zx1daG"
      },
      "source": [
        "##### we will first carry out sampling on the dataset"
      ]
    },
    {
      "cell_type": "code",
      "metadata": {
        "colab": {
          "base_uri": "https://localhost:8080/",
          "height": 419
        },
        "id": "p-DhcY5_1htW",
        "outputId": "aeae0637-791f-49e2-dbab-d3ee3479d0cd"
      },
      "source": [
        "sample=df1.groupby('day_type', group_keys=False).apply(lambda x: x.sample(frac=0.5))\n",
        "#our strata will be the type of the day i.e either a weekend or weekday\n",
        "sample"
      ],
      "execution_count": 55,
      "outputs": [
        {
          "output_type": "execute_result",
          "data": {
            "text/html": [
              "<div>\n",
              "<style scoped>\n",
              "    .dataframe tbody tr th:only-of-type {\n",
              "        vertical-align: middle;\n",
              "    }\n",
              "\n",
              "    .dataframe tbody tr th {\n",
              "        vertical-align: top;\n",
              "    }\n",
              "\n",
              "    .dataframe thead th {\n",
              "        text-align: right;\n",
              "    }\n",
              "</style>\n",
              "<table border=\"1\" class=\"dataframe\">\n",
              "  <thead>\n",
              "    <tr style=\"text-align: right;\">\n",
              "      <th></th>\n",
              "      <th>Postal_code</th>\n",
              "      <th>date</th>\n",
              "      <th>BlueCars_taken_sum</th>\n",
              "      <th>BlueCars_returned_sum</th>\n",
              "      <th>DayOfTheWeek</th>\n",
              "      <th>day_type</th>\n",
              "    </tr>\n",
              "  </thead>\n",
              "  <tbody>\n",
              "    <tr>\n",
              "      <th>2349</th>\n",
              "      <td>75016</td>\n",
              "      <td>2018-01-10</td>\n",
              "      <td>768</td>\n",
              "      <td>741</td>\n",
              "      <td>2</td>\n",
              "      <td>weekday</td>\n",
              "    </tr>\n",
              "    <tr>\n",
              "      <th>2481</th>\n",
              "      <td>75016</td>\n",
              "      <td>2018-06-05</td>\n",
              "      <td>839</td>\n",
              "      <td>804</td>\n",
              "      <td>1</td>\n",
              "      <td>weekday</td>\n",
              "    </tr>\n",
              "    <tr>\n",
              "      <th>2415</th>\n",
              "      <td>75016</td>\n",
              "      <td>2018-03-20</td>\n",
              "      <td>753</td>\n",
              "      <td>765</td>\n",
              "      <td>1</td>\n",
              "      <td>weekday</td>\n",
              "    </tr>\n",
              "    <tr>\n",
              "      <th>2452</th>\n",
              "      <td>75016</td>\n",
              "      <td>2018-04-26</td>\n",
              "      <td>655</td>\n",
              "      <td>664</td>\n",
              "      <td>3</td>\n",
              "      <td>weekday</td>\n",
              "    </tr>\n",
              "    <tr>\n",
              "      <th>2226</th>\n",
              "      <td>75015</td>\n",
              "      <td>2018-02-12</td>\n",
              "      <td>723</td>\n",
              "      <td>726</td>\n",
              "      <td>0</td>\n",
              "      <td>weekday</td>\n",
              "    </tr>\n",
              "    <tr>\n",
              "      <th>...</th>\n",
              "      <td>...</td>\n",
              "      <td>...</td>\n",
              "      <td>...</td>\n",
              "      <td>...</td>\n",
              "      <td>...</td>\n",
              "      <td>...</td>\n",
              "    </tr>\n",
              "    <tr>\n",
              "      <th>2264</th>\n",
              "      <td>75015</td>\n",
              "      <td>2018-03-25</td>\n",
              "      <td>981</td>\n",
              "      <td>1033</td>\n",
              "      <td>6</td>\n",
              "      <td>weekend</td>\n",
              "    </tr>\n",
              "    <tr>\n",
              "      <th>2352</th>\n",
              "      <td>75016</td>\n",
              "      <td>2018-01-13</td>\n",
              "      <td>985</td>\n",
              "      <td>973</td>\n",
              "      <td>5</td>\n",
              "      <td>weekend</td>\n",
              "    </tr>\n",
              "    <tr>\n",
              "      <th>2399</th>\n",
              "      <td>75016</td>\n",
              "      <td>2018-03-04</td>\n",
              "      <td>770</td>\n",
              "      <td>759</td>\n",
              "      <td>6</td>\n",
              "      <td>weekend</td>\n",
              "    </tr>\n",
              "    <tr>\n",
              "      <th>2292</th>\n",
              "      <td>75015</td>\n",
              "      <td>2018-04-22</td>\n",
              "      <td>925</td>\n",
              "      <td>979</td>\n",
              "      <td>6</td>\n",
              "      <td>weekend</td>\n",
              "    </tr>\n",
              "    <tr>\n",
              "      <th>2493</th>\n",
              "      <td>75016</td>\n",
              "      <td>2018-06-17</td>\n",
              "      <td>845</td>\n",
              "      <td>873</td>\n",
              "      <td>6</td>\n",
              "      <td>weekend</td>\n",
              "    </tr>\n",
              "  </tbody>\n",
              "</table>\n",
              "<p>138 rows × 6 columns</p>\n",
              "</div>"
            ],
            "text/plain": [
              "      Postal_code       date  ...  DayOfTheWeek  day_type\n",
              "2349        75016 2018-01-10  ...             2   weekday\n",
              "2481        75016 2018-06-05  ...             1   weekday\n",
              "2415        75016 2018-03-20  ...             1   weekday\n",
              "2452        75016 2018-04-26  ...             3   weekday\n",
              "2226        75015 2018-02-12  ...             0   weekday\n",
              "...           ...        ...  ...           ...       ...\n",
              "2264        75015 2018-03-25  ...             6   weekend\n",
              "2352        75016 2018-01-13  ...             5   weekend\n",
              "2399        75016 2018-03-04  ...             6   weekend\n",
              "2292        75015 2018-04-22  ...             6   weekend\n",
              "2493        75016 2018-06-17  ...             6   weekend\n",
              "\n",
              "[138 rows x 6 columns]"
            ]
          },
          "metadata": {
            "tags": []
          },
          "execution_count": 55
        }
      ]
    },
    {
      "cell_type": "code",
      "metadata": {
        "colab": {
          "base_uri": "https://localhost:8080/"
        },
        "id": "S-AWByQM10Zf",
        "outputId": "caee6b23-e88f-4327-cc50-792cf703f723"
      },
      "source": [
        "sample.shape"
      ],
      "execution_count": 56,
      "outputs": [
        {
          "output_type": "execute_result",
          "data": {
            "text/plain": [
              "(138, 6)"
            ]
          },
          "metadata": {
            "tags": []
          },
          "execution_count": 56
        }
      ]
    },
    {
      "cell_type": "markdown",
      "metadata": {
        "id": "xXQH41ZSpzTo"
      },
      "source": [
        "##### Is there a statistical difference between the sum of cars taken and those returned?"
      ]
    },
    {
      "cell_type": "markdown",
      "metadata": {
        "id": "i9XULlO8jQ-l"
      },
      "source": [
        "We will carry out a Paired t test"
      ]
    },
    {
      "cell_type": "markdown",
      "metadata": {
        "id": "twsE2E6hjfz-"
      },
      "source": [
        " - H0= the means of the two columns are equal\n",
        " - H1: The means of the two columns are not equal"
      ]
    },
    {
      "cell_type": "markdown",
      "metadata": {
        "id": "7mDMWk7LjuMR"
      },
      "source": [
        "Decison rule"
      ]
    },
    {
      "cell_type": "markdown",
      "metadata": {
        "id": "n_WzilsYjx9U"
      },
      "source": [
        "If p-value is less than 0.05, reject the null hypothesis"
      ]
    },
    {
      "cell_type": "code",
      "metadata": {
        "colab": {
          "base_uri": "https://localhost:8080/"
        },
        "id": "4g65trC2PSPJ",
        "outputId": "9f6161aa-b7b5-4885-9b87-f269e364d7e7"
      },
      "source": [
        "stats.ttest_rel(sample['BlueCars_taken_sum'], sample['BlueCars_returned_sum'])"
      ],
      "execution_count": 59,
      "outputs": [
        {
          "output_type": "execute_result",
          "data": {
            "text/plain": [
              "Ttest_relResult(statistic=0.442321398286554, pvalue=0.6589541522492832)"
            ]
          },
          "metadata": {
            "tags": []
          },
          "execution_count": 59
        }
      ]
    },
    {
      "cell_type": "markdown",
      "metadata": {
        "id": "BqcO1rCuj7mY"
      },
      "source": [
        "- the p-value from the the test is greater than the threshold\n",
        "- This implies that the means of the columns are not equal."
      ]
    },
    {
      "cell_type": "markdown",
      "metadata": {
        "id": "zP-wqKjR3Tom"
      },
      "source": [
        "##### Is there a statistical difference between the mean number of cars taken over the weekends and those taken during weekdays"
      ]
    },
    {
      "cell_type": "markdown",
      "metadata": {
        "id": "LQMJj_V23zjZ"
      },
      "source": [
        "- H0: The mean of cars taken during the weekends and weekdays are the same\n",
        "- H1: The mean of cars taken during the weekend s and weekdays are different"
      ]
    },
    {
      "cell_type": "markdown",
      "metadata": {
        "id": "cfL5Er726luH"
      },
      "source": [
        "Decision Rule : Reject Null if P-value< 0.05"
      ]
    },
    {
      "cell_type": "code",
      "metadata": {
        "colab": {
          "base_uri": "https://localhost:8080/"
        },
        "id": "1svAKgml4gUx",
        "outputId": "3eae7f57-5539-4f6e-d64f-0e86241a8f82"
      },
      "source": [
        "weekday=sample[sample['day_type']=='weekday']\n",
        "weekend=sample[sample['day_type']=='weekend']\n",
        "\n",
        "\n",
        "stats.ttest_ind(weekday['BlueCars_taken_sum'],weekend['BlueCars_taken_sum'])"
      ],
      "execution_count": 60,
      "outputs": [
        {
          "output_type": "execute_result",
          "data": {
            "text/plain": [
              "Ttest_indResult(statistic=-5.176903935399317, pvalue=7.933848714981643e-07)"
            ]
          },
          "metadata": {
            "tags": []
          },
          "execution_count": 60
        }
      ]
    },
    {
      "cell_type": "markdown",
      "metadata": {
        "id": "gR7HaOSF6uJd"
      },
      "source": [
        "- We will reject the null hypothesis\n",
        "- rejecting the null hypothesis implies that the mean of cars taken during the weekdays and during the weekends are statistically different "
      ]
    },
    {
      "cell_type": "markdown",
      "metadata": {
        "id": "6F2y7O827E0F"
      },
      "source": [
        "##### Is there a statistical difference between the mean number of cars returned over the weekends and those returned during weekdays"
      ]
    },
    {
      "cell_type": "code",
      "metadata": {
        "colab": {
          "base_uri": "https://localhost:8080/"
        },
        "id": "SdYBlW9g7ROw",
        "outputId": "9ddd19d8-385d-4cee-e1d2-bcd4f7e52cc6"
      },
      "source": [
        "stats.ttest_ind(weekday['BlueCars_returned_sum'],weekend['BlueCars_returned_sum'])"
      ],
      "execution_count": 61,
      "outputs": [
        {
          "output_type": "execute_result",
          "data": {
            "text/plain": [
              "Ttest_indResult(statistic=-6.171514290614284, pvalue=7.281163935900543e-09)"
            ]
          },
          "metadata": {
            "tags": []
          },
          "execution_count": 61
        }
      ]
    },
    {
      "cell_type": "markdown",
      "metadata": {
        "id": "loanBS4r7dtm"
      },
      "source": [
        "- We will reject the null hypothesis\n",
        "- rejecting the null hypothesis implies that the mean of cars returned during the weekdays and during the weekends are statistically different"
      ]
    }
  ]
}